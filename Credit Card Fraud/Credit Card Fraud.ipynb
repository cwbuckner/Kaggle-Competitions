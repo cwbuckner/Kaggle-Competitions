{
  "nbformat": 4,
  "nbformat_minor": 0,
  "metadata": {
    "colab": {
      "provenance": []
    },
    "kernelspec": {
      "name": "python3",
      "display_name": "Python 3"
    },
    "language_info": {
      "name": "python"
    }
  },
  "cells": [
    {
      "cell_type": "code",
      "source": [
        "import pandas as pd\n",
        "df = pd.read_csv('/content/drive/MyDrive/12th Grade/Machine Learning/Data/Semester 1/train(credit card).csv')\n",
        "df_test = pd.read_csv('/content/drive/MyDrive/12th Grade/Machine Learning/Data/Semester 1/test(credit card).csv')\n",
        "df_sample = pd.read_csv('/content/drive/MyDrive/12th Grade/Machine Learning/Data/credit/sample_submission2.csv')"
      ],
      "metadata": {
        "id": "vbRSRU6rpRI_"
      },
      "execution_count": 45,
      "outputs": []
    },
    {
      "cell_type": "code",
      "source": [
        "df"
      ],
      "metadata": {
        "id": "2wENUD8iqEzV",
        "colab": {
          "base_uri": "https://localhost:8080/",
          "height": 443
        },
        "outputId": "2b1ec006-8f7c-45bd-a216-ed8ec0ff22b4"
      },
      "execution_count": 5,
      "outputs": [
        {
          "output_type": "execute_result",
          "data": {
            "text/plain": [
              "            id      Time        V1        V2        V3        V4        V5  \\\n",
              "0            0       0.0  2.074329 -0.129425 -1.137418  0.412846 -0.192638   \n",
              "1            1       0.0  1.998827 -1.250891 -0.520969 -0.894539 -1.122528   \n",
              "2            2       0.0  0.091535  1.004517 -0.223445 -0.435249  0.667548   \n",
              "3            3       0.0  1.979649 -0.184949 -1.064206  0.120125 -0.215238   \n",
              "4            4       0.0  1.025898 -0.171827  1.203717  1.243900 -0.636572   \n",
              "...        ...       ...       ...       ...       ...       ...       ...   \n",
              "219124  219124  120580.0  1.891079 -1.272908 -3.783908 -1.388939  2.012789   \n",
              "219125  219125  120580.0  0.139724  0.948649 -2.913655 -2.184829  1.883716   \n",
              "219126  219126  120580.0  2.058343 -0.038993 -1.928553  0.330117  0.270127   \n",
              "219127  219127  120580.0  2.079227 -2.162389 -1.785833 -2.804889  0.552845   \n",
              "219128  219128  120580.0 -0.431758  1.299171 -0.571602 -1.161499  1.141765   \n",
              "\n",
              "              V6        V7        V8  ...       V21       V22       V23  \\\n",
              "0      -1.210144  0.110697 -0.263477  ... -0.334701 -0.887840  0.336701   \n",
              "1      -0.270866 -1.029289  0.050198  ...  0.054848 -0.038367  0.133518   \n",
              "2      -0.988351  0.948146 -0.084789  ... -0.326725 -0.803736  0.154495   \n",
              "3      -0.648829 -0.087826 -0.035367  ... -0.095514 -0.079792  0.167701   \n",
              "4       1.099074 -0.938651  0.569239  ...  0.099157  0.608908  0.027901   \n",
              "...          ...       ...       ...  ...       ...       ...       ...   \n",
              "219124  2.666080  0.151740  0.401934  ... -0.181369 -0.456538 -0.069571   \n",
              "219125 -1.056824  1.725624  0.018089  ...  0.491469  1.478823 -0.085398   \n",
              "219126 -0.735664 -0.173878  0.144823  ... -0.306640 -0.965783  0.307799   \n",
              "219127  4.038013 -2.155900  1.023785  ...  0.109909  0.590401  0.286621   \n",
              "219128 -1.258871  1.701553 -0.454580  ...  0.225629  0.988442 -0.224609   \n",
              "\n",
              "             V24       V25       V26       V27       V28  Amount  Class  \n",
              "0      -0.110835 -0.291459  0.207733 -0.076576 -0.059577    1.98      0  \n",
              "1      -0.461928 -0.465491 -0.464655 -0.009413 -0.038238   84.00      0  \n",
              "2       0.951233 -0.506919  0.085046  0.224458  0.087356    2.69      0  \n",
              "3      -0.042939  0.000799 -0.096148 -0.057780 -0.073839    1.00      0  \n",
              "4      -0.262813  0.257834 -0.252829  0.108338  0.021051    1.00      0  \n",
              "...          ...       ...       ...       ...       ...     ...    ...  \n",
              "219124  0.756765  0.244479 -0.147566 -0.054725 -0.044588  198.65      0  \n",
              "219125 -0.091409 -1.053488  0.467570  0.358918  0.294735   24.00      0  \n",
              "219126 -0.021434 -0.343989  0.181065 -0.098387 -0.044064    1.79      0  \n",
              "219127  0.675660 -0.510736 -0.090044  0.056749 -0.017126   88.00      0  \n",
              "219128  0.082977 -0.335529  0.042237  0.304965  0.240049    3.78      0  \n",
              "\n",
              "[219129 rows x 32 columns]"
            ],
            "text/html": [
              "\n",
              "  <div id=\"df-5fb307bf-fba4-4819-adbb-48b4ffa841c4\" class=\"colab-df-container\">\n",
              "    <div>\n",
              "<style scoped>\n",
              "    .dataframe tbody tr th:only-of-type {\n",
              "        vertical-align: middle;\n",
              "    }\n",
              "\n",
              "    .dataframe tbody tr th {\n",
              "        vertical-align: top;\n",
              "    }\n",
              "\n",
              "    .dataframe thead th {\n",
              "        text-align: right;\n",
              "    }\n",
              "</style>\n",
              "<table border=\"1\" class=\"dataframe\">\n",
              "  <thead>\n",
              "    <tr style=\"text-align: right;\">\n",
              "      <th></th>\n",
              "      <th>id</th>\n",
              "      <th>Time</th>\n",
              "      <th>V1</th>\n",
              "      <th>V2</th>\n",
              "      <th>V3</th>\n",
              "      <th>V4</th>\n",
              "      <th>V5</th>\n",
              "      <th>V6</th>\n",
              "      <th>V7</th>\n",
              "      <th>V8</th>\n",
              "      <th>...</th>\n",
              "      <th>V21</th>\n",
              "      <th>V22</th>\n",
              "      <th>V23</th>\n",
              "      <th>V24</th>\n",
              "      <th>V25</th>\n",
              "      <th>V26</th>\n",
              "      <th>V27</th>\n",
              "      <th>V28</th>\n",
              "      <th>Amount</th>\n",
              "      <th>Class</th>\n",
              "    </tr>\n",
              "  </thead>\n",
              "  <tbody>\n",
              "    <tr>\n",
              "      <th>0</th>\n",
              "      <td>0</td>\n",
              "      <td>0.0</td>\n",
              "      <td>2.074329</td>\n",
              "      <td>-0.129425</td>\n",
              "      <td>-1.137418</td>\n",
              "      <td>0.412846</td>\n",
              "      <td>-0.192638</td>\n",
              "      <td>-1.210144</td>\n",
              "      <td>0.110697</td>\n",
              "      <td>-0.263477</td>\n",
              "      <td>...</td>\n",
              "      <td>-0.334701</td>\n",
              "      <td>-0.887840</td>\n",
              "      <td>0.336701</td>\n",
              "      <td>-0.110835</td>\n",
              "      <td>-0.291459</td>\n",
              "      <td>0.207733</td>\n",
              "      <td>-0.076576</td>\n",
              "      <td>-0.059577</td>\n",
              "      <td>1.98</td>\n",
              "      <td>0</td>\n",
              "    </tr>\n",
              "    <tr>\n",
              "      <th>1</th>\n",
              "      <td>1</td>\n",
              "      <td>0.0</td>\n",
              "      <td>1.998827</td>\n",
              "      <td>-1.250891</td>\n",
              "      <td>-0.520969</td>\n",
              "      <td>-0.894539</td>\n",
              "      <td>-1.122528</td>\n",
              "      <td>-0.270866</td>\n",
              "      <td>-1.029289</td>\n",
              "      <td>0.050198</td>\n",
              "      <td>...</td>\n",
              "      <td>0.054848</td>\n",
              "      <td>-0.038367</td>\n",
              "      <td>0.133518</td>\n",
              "      <td>-0.461928</td>\n",
              "      <td>-0.465491</td>\n",
              "      <td>-0.464655</td>\n",
              "      <td>-0.009413</td>\n",
              "      <td>-0.038238</td>\n",
              "      <td>84.00</td>\n",
              "      <td>0</td>\n",
              "    </tr>\n",
              "    <tr>\n",
              "      <th>2</th>\n",
              "      <td>2</td>\n",
              "      <td>0.0</td>\n",
              "      <td>0.091535</td>\n",
              "      <td>1.004517</td>\n",
              "      <td>-0.223445</td>\n",
              "      <td>-0.435249</td>\n",
              "      <td>0.667548</td>\n",
              "      <td>-0.988351</td>\n",
              "      <td>0.948146</td>\n",
              "      <td>-0.084789</td>\n",
              "      <td>...</td>\n",
              "      <td>-0.326725</td>\n",
              "      <td>-0.803736</td>\n",
              "      <td>0.154495</td>\n",
              "      <td>0.951233</td>\n",
              "      <td>-0.506919</td>\n",
              "      <td>0.085046</td>\n",
              "      <td>0.224458</td>\n",
              "      <td>0.087356</td>\n",
              "      <td>2.69</td>\n",
              "      <td>0</td>\n",
              "    </tr>\n",
              "    <tr>\n",
              "      <th>3</th>\n",
              "      <td>3</td>\n",
              "      <td>0.0</td>\n",
              "      <td>1.979649</td>\n",
              "      <td>-0.184949</td>\n",
              "      <td>-1.064206</td>\n",
              "      <td>0.120125</td>\n",
              "      <td>-0.215238</td>\n",
              "      <td>-0.648829</td>\n",
              "      <td>-0.087826</td>\n",
              "      <td>-0.035367</td>\n",
              "      <td>...</td>\n",
              "      <td>-0.095514</td>\n",
              "      <td>-0.079792</td>\n",
              "      <td>0.167701</td>\n",
              "      <td>-0.042939</td>\n",
              "      <td>0.000799</td>\n",
              "      <td>-0.096148</td>\n",
              "      <td>-0.057780</td>\n",
              "      <td>-0.073839</td>\n",
              "      <td>1.00</td>\n",
              "      <td>0</td>\n",
              "    </tr>\n",
              "    <tr>\n",
              "      <th>4</th>\n",
              "      <td>4</td>\n",
              "      <td>0.0</td>\n",
              "      <td>1.025898</td>\n",
              "      <td>-0.171827</td>\n",
              "      <td>1.203717</td>\n",
              "      <td>1.243900</td>\n",
              "      <td>-0.636572</td>\n",
              "      <td>1.099074</td>\n",
              "      <td>-0.938651</td>\n",
              "      <td>0.569239</td>\n",
              "      <td>...</td>\n",
              "      <td>0.099157</td>\n",
              "      <td>0.608908</td>\n",
              "      <td>0.027901</td>\n",
              "      <td>-0.262813</td>\n",
              "      <td>0.257834</td>\n",
              "      <td>-0.252829</td>\n",
              "      <td>0.108338</td>\n",
              "      <td>0.021051</td>\n",
              "      <td>1.00</td>\n",
              "      <td>0</td>\n",
              "    </tr>\n",
              "    <tr>\n",
              "      <th>...</th>\n",
              "      <td>...</td>\n",
              "      <td>...</td>\n",
              "      <td>...</td>\n",
              "      <td>...</td>\n",
              "      <td>...</td>\n",
              "      <td>...</td>\n",
              "      <td>...</td>\n",
              "      <td>...</td>\n",
              "      <td>...</td>\n",
              "      <td>...</td>\n",
              "      <td>...</td>\n",
              "      <td>...</td>\n",
              "      <td>...</td>\n",
              "      <td>...</td>\n",
              "      <td>...</td>\n",
              "      <td>...</td>\n",
              "      <td>...</td>\n",
              "      <td>...</td>\n",
              "      <td>...</td>\n",
              "      <td>...</td>\n",
              "      <td>...</td>\n",
              "    </tr>\n",
              "    <tr>\n",
              "      <th>219124</th>\n",
              "      <td>219124</td>\n",
              "      <td>120580.0</td>\n",
              "      <td>1.891079</td>\n",
              "      <td>-1.272908</td>\n",
              "      <td>-3.783908</td>\n",
              "      <td>-1.388939</td>\n",
              "      <td>2.012789</td>\n",
              "      <td>2.666080</td>\n",
              "      <td>0.151740</td>\n",
              "      <td>0.401934</td>\n",
              "      <td>...</td>\n",
              "      <td>-0.181369</td>\n",
              "      <td>-0.456538</td>\n",
              "      <td>-0.069571</td>\n",
              "      <td>0.756765</td>\n",
              "      <td>0.244479</td>\n",
              "      <td>-0.147566</td>\n",
              "      <td>-0.054725</td>\n",
              "      <td>-0.044588</td>\n",
              "      <td>198.65</td>\n",
              "      <td>0</td>\n",
              "    </tr>\n",
              "    <tr>\n",
              "      <th>219125</th>\n",
              "      <td>219125</td>\n",
              "      <td>120580.0</td>\n",
              "      <td>0.139724</td>\n",
              "      <td>0.948649</td>\n",
              "      <td>-2.913655</td>\n",
              "      <td>-2.184829</td>\n",
              "      <td>1.883716</td>\n",
              "      <td>-1.056824</td>\n",
              "      <td>1.725624</td>\n",
              "      <td>0.018089</td>\n",
              "      <td>...</td>\n",
              "      <td>0.491469</td>\n",
              "      <td>1.478823</td>\n",
              "      <td>-0.085398</td>\n",
              "      <td>-0.091409</td>\n",
              "      <td>-1.053488</td>\n",
              "      <td>0.467570</td>\n",
              "      <td>0.358918</td>\n",
              "      <td>0.294735</td>\n",
              "      <td>24.00</td>\n",
              "      <td>0</td>\n",
              "    </tr>\n",
              "    <tr>\n",
              "      <th>219126</th>\n",
              "      <td>219126</td>\n",
              "      <td>120580.0</td>\n",
              "      <td>2.058343</td>\n",
              "      <td>-0.038993</td>\n",
              "      <td>-1.928553</td>\n",
              "      <td>0.330117</td>\n",
              "      <td>0.270127</td>\n",
              "      <td>-0.735664</td>\n",
              "      <td>-0.173878</td>\n",
              "      <td>0.144823</td>\n",
              "      <td>...</td>\n",
              "      <td>-0.306640</td>\n",
              "      <td>-0.965783</td>\n",
              "      <td>0.307799</td>\n",
              "      <td>-0.021434</td>\n",
              "      <td>-0.343989</td>\n",
              "      <td>0.181065</td>\n",
              "      <td>-0.098387</td>\n",
              "      <td>-0.044064</td>\n",
              "      <td>1.79</td>\n",
              "      <td>0</td>\n",
              "    </tr>\n",
              "    <tr>\n",
              "      <th>219127</th>\n",
              "      <td>219127</td>\n",
              "      <td>120580.0</td>\n",
              "      <td>2.079227</td>\n",
              "      <td>-2.162389</td>\n",
              "      <td>-1.785833</td>\n",
              "      <td>-2.804889</td>\n",
              "      <td>0.552845</td>\n",
              "      <td>4.038013</td>\n",
              "      <td>-2.155900</td>\n",
              "      <td>1.023785</td>\n",
              "      <td>...</td>\n",
              "      <td>0.109909</td>\n",
              "      <td>0.590401</td>\n",
              "      <td>0.286621</td>\n",
              "      <td>0.675660</td>\n",
              "      <td>-0.510736</td>\n",
              "      <td>-0.090044</td>\n",
              "      <td>0.056749</td>\n",
              "      <td>-0.017126</td>\n",
              "      <td>88.00</td>\n",
              "      <td>0</td>\n",
              "    </tr>\n",
              "    <tr>\n",
              "      <th>219128</th>\n",
              "      <td>219128</td>\n",
              "      <td>120580.0</td>\n",
              "      <td>-0.431758</td>\n",
              "      <td>1.299171</td>\n",
              "      <td>-0.571602</td>\n",
              "      <td>-1.161499</td>\n",
              "      <td>1.141765</td>\n",
              "      <td>-1.258871</td>\n",
              "      <td>1.701553</td>\n",
              "      <td>-0.454580</td>\n",
              "      <td>...</td>\n",
              "      <td>0.225629</td>\n",
              "      <td>0.988442</td>\n",
              "      <td>-0.224609</td>\n",
              "      <td>0.082977</td>\n",
              "      <td>-0.335529</td>\n",
              "      <td>0.042237</td>\n",
              "      <td>0.304965</td>\n",
              "      <td>0.240049</td>\n",
              "      <td>3.78</td>\n",
              "      <td>0</td>\n",
              "    </tr>\n",
              "  </tbody>\n",
              "</table>\n",
              "<p>219129 rows × 32 columns</p>\n",
              "</div>\n",
              "    <div class=\"colab-df-buttons\">\n",
              "\n",
              "  <div class=\"colab-df-container\">\n",
              "    <button class=\"colab-df-convert\" onclick=\"convertToInteractive('df-5fb307bf-fba4-4819-adbb-48b4ffa841c4')\"\n",
              "            title=\"Convert this dataframe to an interactive table.\"\n",
              "            style=\"display:none;\">\n",
              "\n",
              "  <svg xmlns=\"http://www.w3.org/2000/svg\" height=\"24px\" viewBox=\"0 -960 960 960\">\n",
              "    <path d=\"M120-120v-720h720v720H120Zm60-500h600v-160H180v160Zm220 220h160v-160H400v160Zm0 220h160v-160H400v160ZM180-400h160v-160H180v160Zm440 0h160v-160H620v160ZM180-180h160v-160H180v160Zm440 0h160v-160H620v160Z\"/>\n",
              "  </svg>\n",
              "    </button>\n",
              "\n",
              "  <style>\n",
              "    .colab-df-container {\n",
              "      display:flex;\n",
              "      gap: 12px;\n",
              "    }\n",
              "\n",
              "    .colab-df-convert {\n",
              "      background-color: #E8F0FE;\n",
              "      border: none;\n",
              "      border-radius: 50%;\n",
              "      cursor: pointer;\n",
              "      display: none;\n",
              "      fill: #1967D2;\n",
              "      height: 32px;\n",
              "      padding: 0 0 0 0;\n",
              "      width: 32px;\n",
              "    }\n",
              "\n",
              "    .colab-df-convert:hover {\n",
              "      background-color: #E2EBFA;\n",
              "      box-shadow: 0px 1px 2px rgba(60, 64, 67, 0.3), 0px 1px 3px 1px rgba(60, 64, 67, 0.15);\n",
              "      fill: #174EA6;\n",
              "    }\n",
              "\n",
              "    .colab-df-buttons div {\n",
              "      margin-bottom: 4px;\n",
              "    }\n",
              "\n",
              "    [theme=dark] .colab-df-convert {\n",
              "      background-color: #3B4455;\n",
              "      fill: #D2E3FC;\n",
              "    }\n",
              "\n",
              "    [theme=dark] .colab-df-convert:hover {\n",
              "      background-color: #434B5C;\n",
              "      box-shadow: 0px 1px 3px 1px rgba(0, 0, 0, 0.15);\n",
              "      filter: drop-shadow(0px 1px 2px rgba(0, 0, 0, 0.3));\n",
              "      fill: #FFFFFF;\n",
              "    }\n",
              "  </style>\n",
              "\n",
              "    <script>\n",
              "      const buttonEl =\n",
              "        document.querySelector('#df-5fb307bf-fba4-4819-adbb-48b4ffa841c4 button.colab-df-convert');\n",
              "      buttonEl.style.display =\n",
              "        google.colab.kernel.accessAllowed ? 'block' : 'none';\n",
              "\n",
              "      async function convertToInteractive(key) {\n",
              "        const element = document.querySelector('#df-5fb307bf-fba4-4819-adbb-48b4ffa841c4');\n",
              "        const dataTable =\n",
              "          await google.colab.kernel.invokeFunction('convertToInteractive',\n",
              "                                                    [key], {});\n",
              "        if (!dataTable) return;\n",
              "\n",
              "        const docLinkHtml = 'Like what you see? Visit the ' +\n",
              "          '<a target=\"_blank\" href=https://colab.research.google.com/notebooks/data_table.ipynb>data table notebook</a>'\n",
              "          + ' to learn more about interactive tables.';\n",
              "        element.innerHTML = '';\n",
              "        dataTable['output_type'] = 'display_data';\n",
              "        await google.colab.output.renderOutput(dataTable, element);\n",
              "        const docLink = document.createElement('div');\n",
              "        docLink.innerHTML = docLinkHtml;\n",
              "        element.appendChild(docLink);\n",
              "      }\n",
              "    </script>\n",
              "  </div>\n",
              "\n",
              "\n",
              "<div id=\"df-50de92e6-c88e-4ca8-9495-316d10ca4433\">\n",
              "  <button class=\"colab-df-quickchart\" onclick=\"quickchart('df-50de92e6-c88e-4ca8-9495-316d10ca4433')\"\n",
              "            title=\"Suggest charts\"\n",
              "            style=\"display:none;\">\n",
              "\n",
              "<svg xmlns=\"http://www.w3.org/2000/svg\" height=\"24px\"viewBox=\"0 0 24 24\"\n",
              "     width=\"24px\">\n",
              "    <g>\n",
              "        <path d=\"M19 3H5c-1.1 0-2 .9-2 2v14c0 1.1.9 2 2 2h14c1.1 0 2-.9 2-2V5c0-1.1-.9-2-2-2zM9 17H7v-7h2v7zm4 0h-2V7h2v10zm4 0h-2v-4h2v4z\"/>\n",
              "    </g>\n",
              "</svg>\n",
              "  </button>\n",
              "\n",
              "<style>\n",
              "  .colab-df-quickchart {\n",
              "      --bg-color: #E8F0FE;\n",
              "      --fill-color: #1967D2;\n",
              "      --hover-bg-color: #E2EBFA;\n",
              "      --hover-fill-color: #174EA6;\n",
              "      --disabled-fill-color: #AAA;\n",
              "      --disabled-bg-color: #DDD;\n",
              "  }\n",
              "\n",
              "  [theme=dark] .colab-df-quickchart {\n",
              "      --bg-color: #3B4455;\n",
              "      --fill-color: #D2E3FC;\n",
              "      --hover-bg-color: #434B5C;\n",
              "      --hover-fill-color: #FFFFFF;\n",
              "      --disabled-bg-color: #3B4455;\n",
              "      --disabled-fill-color: #666;\n",
              "  }\n",
              "\n",
              "  .colab-df-quickchart {\n",
              "    background-color: var(--bg-color);\n",
              "    border: none;\n",
              "    border-radius: 50%;\n",
              "    cursor: pointer;\n",
              "    display: none;\n",
              "    fill: var(--fill-color);\n",
              "    height: 32px;\n",
              "    padding: 0;\n",
              "    width: 32px;\n",
              "  }\n",
              "\n",
              "  .colab-df-quickchart:hover {\n",
              "    background-color: var(--hover-bg-color);\n",
              "    box-shadow: 0 1px 2px rgba(60, 64, 67, 0.3), 0 1px 3px 1px rgba(60, 64, 67, 0.15);\n",
              "    fill: var(--button-hover-fill-color);\n",
              "  }\n",
              "\n",
              "  .colab-df-quickchart-complete:disabled,\n",
              "  .colab-df-quickchart-complete:disabled:hover {\n",
              "    background-color: var(--disabled-bg-color);\n",
              "    fill: var(--disabled-fill-color);\n",
              "    box-shadow: none;\n",
              "  }\n",
              "\n",
              "  .colab-df-spinner {\n",
              "    border: 2px solid var(--fill-color);\n",
              "    border-color: transparent;\n",
              "    border-bottom-color: var(--fill-color);\n",
              "    animation:\n",
              "      spin 1s steps(1) infinite;\n",
              "  }\n",
              "\n",
              "  @keyframes spin {\n",
              "    0% {\n",
              "      border-color: transparent;\n",
              "      border-bottom-color: var(--fill-color);\n",
              "      border-left-color: var(--fill-color);\n",
              "    }\n",
              "    20% {\n",
              "      border-color: transparent;\n",
              "      border-left-color: var(--fill-color);\n",
              "      border-top-color: var(--fill-color);\n",
              "    }\n",
              "    30% {\n",
              "      border-color: transparent;\n",
              "      border-left-color: var(--fill-color);\n",
              "      border-top-color: var(--fill-color);\n",
              "      border-right-color: var(--fill-color);\n",
              "    }\n",
              "    40% {\n",
              "      border-color: transparent;\n",
              "      border-right-color: var(--fill-color);\n",
              "      border-top-color: var(--fill-color);\n",
              "    }\n",
              "    60% {\n",
              "      border-color: transparent;\n",
              "      border-right-color: var(--fill-color);\n",
              "    }\n",
              "    80% {\n",
              "      border-color: transparent;\n",
              "      border-right-color: var(--fill-color);\n",
              "      border-bottom-color: var(--fill-color);\n",
              "    }\n",
              "    90% {\n",
              "      border-color: transparent;\n",
              "      border-bottom-color: var(--fill-color);\n",
              "    }\n",
              "  }\n",
              "</style>\n",
              "\n",
              "  <script>\n",
              "    async function quickchart(key) {\n",
              "      const quickchartButtonEl =\n",
              "        document.querySelector('#' + key + ' button');\n",
              "      quickchartButtonEl.disabled = true;  // To prevent multiple clicks.\n",
              "      quickchartButtonEl.classList.add('colab-df-spinner');\n",
              "      try {\n",
              "        const charts = await google.colab.kernel.invokeFunction(\n",
              "            'suggestCharts', [key], {});\n",
              "      } catch (error) {\n",
              "        console.error('Error during call to suggestCharts:', error);\n",
              "      }\n",
              "      quickchartButtonEl.classList.remove('colab-df-spinner');\n",
              "      quickchartButtonEl.classList.add('colab-df-quickchart-complete');\n",
              "    }\n",
              "    (() => {\n",
              "      let quickchartButtonEl =\n",
              "        document.querySelector('#df-50de92e6-c88e-4ca8-9495-316d10ca4433 button');\n",
              "      quickchartButtonEl.style.display =\n",
              "        google.colab.kernel.accessAllowed ? 'block' : 'none';\n",
              "    })();\n",
              "  </script>\n",
              "</div>\n",
              "    </div>\n",
              "  </div>\n"
            ]
          },
          "metadata": {},
          "execution_count": 5
        }
      ]
    },
    {
      "cell_type": "code",
      "source": [
        "df.shape"
      ],
      "metadata": {
        "id": "GIfa2ISocQxT",
        "colab": {
          "base_uri": "https://localhost:8080/"
        },
        "outputId": "6cf1559d-acf6-4d3f-f44c-70824902d54b"
      },
      "execution_count": 6,
      "outputs": [
        {
          "output_type": "execute_result",
          "data": {
            "text/plain": [
              "(219129, 32)"
            ]
          },
          "metadata": {},
          "execution_count": 6
        }
      ]
    },
    {
      "cell_type": "code",
      "source": [
        "df.isna().sum()"
      ],
      "metadata": {
        "id": "664Btt-FcR8I",
        "colab": {
          "base_uri": "https://localhost:8080/"
        },
        "outputId": "6c737e3c-926e-487c-aea4-ffa3e47470ec"
      },
      "execution_count": 7,
      "outputs": [
        {
          "output_type": "execute_result",
          "data": {
            "text/plain": [
              "id        0\n",
              "Time      0\n",
              "V1        0\n",
              "V2        0\n",
              "V3        0\n",
              "V4        0\n",
              "V5        0\n",
              "V6        0\n",
              "V7        0\n",
              "V8        0\n",
              "V9        0\n",
              "V10       0\n",
              "V11       0\n",
              "V12       0\n",
              "V13       0\n",
              "V14       0\n",
              "V15       0\n",
              "V16       0\n",
              "V17       0\n",
              "V18       0\n",
              "V19       0\n",
              "V20       0\n",
              "V21       0\n",
              "V22       0\n",
              "V23       0\n",
              "V24       0\n",
              "V25       0\n",
              "V26       0\n",
              "V27       0\n",
              "V28       0\n",
              "Amount    0\n",
              "Class     0\n",
              "dtype: int64"
            ]
          },
          "metadata": {},
          "execution_count": 7
        }
      ]
    },
    {
      "cell_type": "code",
      "source": [
        "df.dtypes"
      ],
      "metadata": {
        "id": "DZLazeXucUjT",
        "colab": {
          "base_uri": "https://localhost:8080/"
        },
        "outputId": "4935e7af-e448-46ce-862e-5a3394661e01"
      },
      "execution_count": 8,
      "outputs": [
        {
          "output_type": "execute_result",
          "data": {
            "text/plain": [
              "id          int64\n",
              "Time      float64\n",
              "V1        float64\n",
              "V2        float64\n",
              "V3        float64\n",
              "V4        float64\n",
              "V5        float64\n",
              "V6        float64\n",
              "V7        float64\n",
              "V8        float64\n",
              "V9        float64\n",
              "V10       float64\n",
              "V11       float64\n",
              "V12       float64\n",
              "V13       float64\n",
              "V14       float64\n",
              "V15       float64\n",
              "V16       float64\n",
              "V17       float64\n",
              "V18       float64\n",
              "V19       float64\n",
              "V20       float64\n",
              "V21       float64\n",
              "V22       float64\n",
              "V23       float64\n",
              "V24       float64\n",
              "V25       float64\n",
              "V26       float64\n",
              "V27       float64\n",
              "V28       float64\n",
              "Amount    float64\n",
              "Class       int64\n",
              "dtype: object"
            ]
          },
          "metadata": {},
          "execution_count": 8
        }
      ]
    },
    {
      "cell_type": "code",
      "source": [
        "df.columns"
      ],
      "metadata": {
        "id": "0X99EjhIcYIu",
        "colab": {
          "base_uri": "https://localhost:8080/"
        },
        "outputId": "7e36baba-8778-4ba0-a5a9-74ed13a9217a"
      },
      "execution_count": 9,
      "outputs": [
        {
          "output_type": "execute_result",
          "data": {
            "text/plain": [
              "Index(['id', 'Time', 'V1', 'V2', 'V3', 'V4', 'V5', 'V6', 'V7', 'V8', 'V9',\n",
              "       'V10', 'V11', 'V12', 'V13', 'V14', 'V15', 'V16', 'V17', 'V18', 'V19',\n",
              "       'V20', 'V21', 'V22', 'V23', 'V24', 'V25', 'V26', 'V27', 'V28', 'Amount',\n",
              "       'Class'],\n",
              "      dtype='object')"
            ]
          },
          "metadata": {},
          "execution_count": 9
        }
      ]
    },
    {
      "cell_type": "code",
      "source": [
        "features = ['Time', 'V1', 'V5', 'V10']"
      ],
      "metadata": {
        "id": "Ju6fvt7ZqXbY"
      },
      "execution_count": 10,
      "outputs": []
    },
    {
      "cell_type": "code",
      "source": [
        "df['Class'].value_counts()"
      ],
      "metadata": {
        "id": "p30BuyuYxy2t",
        "colab": {
          "base_uri": "https://localhost:8080/"
        },
        "outputId": "adcc3692-ffc4-4c5a-8a47-cdd7659fd53e"
      },
      "execution_count": 11,
      "outputs": [
        {
          "output_type": "execute_result",
          "data": {
            "text/plain": [
              "0    218660\n",
              "1       469\n",
              "Name: Class, dtype: int64"
            ]
          },
          "metadata": {},
          "execution_count": 11
        }
      ]
    },
    {
      "cell_type": "code",
      "source": [
        "X = df[features]\n",
        "y = df['Class']"
      ],
      "metadata": {
        "id": "XsPhECzhsQKz"
      },
      "execution_count": 12,
      "outputs": []
    },
    {
      "cell_type": "code",
      "source": [
        "X.shape"
      ],
      "metadata": {
        "id": "ggljD7_GsZ8n",
        "colab": {
          "base_uri": "https://localhost:8080/"
        },
        "outputId": "c890edce-56ec-40ba-d4f4-6868ad9cfc94"
      },
      "execution_count": 13,
      "outputs": [
        {
          "output_type": "execute_result",
          "data": {
            "text/plain": [
              "(219129, 4)"
            ]
          },
          "metadata": {},
          "execution_count": 13
        }
      ]
    },
    {
      "cell_type": "code",
      "source": [
        "y.shape"
      ],
      "metadata": {
        "id": "UveOYoS-sbRk",
        "colab": {
          "base_uri": "https://localhost:8080/"
        },
        "outputId": "7c55fc34-25d2-443b-ccf5-ba92218b7acf"
      },
      "execution_count": 14,
      "outputs": [
        {
          "output_type": "execute_result",
          "data": {
            "text/plain": [
              "(219129,)"
            ]
          },
          "metadata": {},
          "execution_count": 14
        }
      ]
    },
    {
      "cell_type": "code",
      "source": [
        "#class = target\n",
        "#unbalanced class = one of 2 outcomes more present"
      ],
      "metadata": {
        "id": "JqDxSczJqx6f"
      },
      "execution_count": 15,
      "outputs": []
    },
    {
      "cell_type": "code",
      "source": [
        "df['Class'].value_counts()"
      ],
      "metadata": {
        "id": "uu6ReVeKrT1e",
        "colab": {
          "base_uri": "https://localhost:8080/"
        },
        "outputId": "232b1645-86b2-439f-8639-7805ed5326cf"
      },
      "execution_count": 16,
      "outputs": [
        {
          "output_type": "execute_result",
          "data": {
            "text/plain": [
              "0    218660\n",
              "1       469\n",
              "Name: Class, dtype: int64"
            ]
          },
          "metadata": {},
          "execution_count": 16
        }
      ]
    },
    {
      "cell_type": "code",
      "source": [
        "from sklearn.linear_model import LogisticRegression\n",
        "from sklearn.model_selection import train_test_split\n",
        "from sklearn.metrics import accuracy_score"
      ],
      "metadata": {
        "id": "-YvUr7qZss63"
      },
      "execution_count": 17,
      "outputs": []
    },
    {
      "cell_type": "code",
      "source": [
        "X_train, X_test, y_train, y_test = train_test_split(X, y, test_size=0.3, random_state=42)"
      ],
      "metadata": {
        "id": "9vAqZqDktcdl"
      },
      "execution_count": 18,
      "outputs": []
    },
    {
      "cell_type": "code",
      "source": [
        "logreg = LogisticRegression(random_state=1)"
      ],
      "metadata": {
        "id": "xb7TzfPmcswz"
      },
      "execution_count": 19,
      "outputs": []
    },
    {
      "cell_type": "code",
      "source": [
        "#logreg.fit(X, y)"
      ],
      "metadata": {
        "id": "bQsPRH06s9HF"
      },
      "execution_count": 20,
      "outputs": []
    },
    {
      "cell_type": "code",
      "source": [
        "logreg.fit(X_train, y_train)"
      ],
      "metadata": {
        "id": "AlyjYE55vGsZ",
        "colab": {
          "base_uri": "https://localhost:8080/",
          "height": 74
        },
        "outputId": "ed6f19ad-1d5b-4619-fd4b-cba27ab4cd48"
      },
      "execution_count": 21,
      "outputs": [
        {
          "output_type": "execute_result",
          "data": {
            "text/plain": [
              "LogisticRegression(random_state=1)"
            ],
            "text/html": [
              "<style>#sk-container-id-1 {color: black;background-color: white;}#sk-container-id-1 pre{padding: 0;}#sk-container-id-1 div.sk-toggleable {background-color: white;}#sk-container-id-1 label.sk-toggleable__label {cursor: pointer;display: block;width: 100%;margin-bottom: 0;padding: 0.3em;box-sizing: border-box;text-align: center;}#sk-container-id-1 label.sk-toggleable__label-arrow:before {content: \"▸\";float: left;margin-right: 0.25em;color: #696969;}#sk-container-id-1 label.sk-toggleable__label-arrow:hover:before {color: black;}#sk-container-id-1 div.sk-estimator:hover label.sk-toggleable__label-arrow:before {color: black;}#sk-container-id-1 div.sk-toggleable__content {max-height: 0;max-width: 0;overflow: hidden;text-align: left;background-color: #f0f8ff;}#sk-container-id-1 div.sk-toggleable__content pre {margin: 0.2em;color: black;border-radius: 0.25em;background-color: #f0f8ff;}#sk-container-id-1 input.sk-toggleable__control:checked~div.sk-toggleable__content {max-height: 200px;max-width: 100%;overflow: auto;}#sk-container-id-1 input.sk-toggleable__control:checked~label.sk-toggleable__label-arrow:before {content: \"▾\";}#sk-container-id-1 div.sk-estimator input.sk-toggleable__control:checked~label.sk-toggleable__label {background-color: #d4ebff;}#sk-container-id-1 div.sk-label input.sk-toggleable__control:checked~label.sk-toggleable__label {background-color: #d4ebff;}#sk-container-id-1 input.sk-hidden--visually {border: 0;clip: rect(1px 1px 1px 1px);clip: rect(1px, 1px, 1px, 1px);height: 1px;margin: -1px;overflow: hidden;padding: 0;position: absolute;width: 1px;}#sk-container-id-1 div.sk-estimator {font-family: monospace;background-color: #f0f8ff;border: 1px dotted black;border-radius: 0.25em;box-sizing: border-box;margin-bottom: 0.5em;}#sk-container-id-1 div.sk-estimator:hover {background-color: #d4ebff;}#sk-container-id-1 div.sk-parallel-item::after {content: \"\";width: 100%;border-bottom: 1px solid gray;flex-grow: 1;}#sk-container-id-1 div.sk-label:hover label.sk-toggleable__label {background-color: #d4ebff;}#sk-container-id-1 div.sk-serial::before {content: \"\";position: absolute;border-left: 1px solid gray;box-sizing: border-box;top: 0;bottom: 0;left: 50%;z-index: 0;}#sk-container-id-1 div.sk-serial {display: flex;flex-direction: column;align-items: center;background-color: white;padding-right: 0.2em;padding-left: 0.2em;position: relative;}#sk-container-id-1 div.sk-item {position: relative;z-index: 1;}#sk-container-id-1 div.sk-parallel {display: flex;align-items: stretch;justify-content: center;background-color: white;position: relative;}#sk-container-id-1 div.sk-item::before, #sk-container-id-1 div.sk-parallel-item::before {content: \"\";position: absolute;border-left: 1px solid gray;box-sizing: border-box;top: 0;bottom: 0;left: 50%;z-index: -1;}#sk-container-id-1 div.sk-parallel-item {display: flex;flex-direction: column;z-index: 1;position: relative;background-color: white;}#sk-container-id-1 div.sk-parallel-item:first-child::after {align-self: flex-end;width: 50%;}#sk-container-id-1 div.sk-parallel-item:last-child::after {align-self: flex-start;width: 50%;}#sk-container-id-1 div.sk-parallel-item:only-child::after {width: 0;}#sk-container-id-1 div.sk-dashed-wrapped {border: 1px dashed gray;margin: 0 0.4em 0.5em 0.4em;box-sizing: border-box;padding-bottom: 0.4em;background-color: white;}#sk-container-id-1 div.sk-label label {font-family: monospace;font-weight: bold;display: inline-block;line-height: 1.2em;}#sk-container-id-1 div.sk-label-container {text-align: center;}#sk-container-id-1 div.sk-container {/* jupyter's `normalize.less` sets `[hidden] { display: none; }` but bootstrap.min.css set `[hidden] { display: none !important; }` so we also need the `!important` here to be able to override the default hidden behavior on the sphinx rendered scikit-learn.org. See: https://github.com/scikit-learn/scikit-learn/issues/21755 */display: inline-block !important;position: relative;}#sk-container-id-1 div.sk-text-repr-fallback {display: none;}</style><div id=\"sk-container-id-1\" class=\"sk-top-container\"><div class=\"sk-text-repr-fallback\"><pre>LogisticRegression(random_state=1)</pre><b>In a Jupyter environment, please rerun this cell to show the HTML representation or trust the notebook. <br />On GitHub, the HTML representation is unable to render, please try loading this page with nbviewer.org.</b></div><div class=\"sk-container\" hidden><div class=\"sk-item\"><div class=\"sk-estimator sk-toggleable\"><input class=\"sk-toggleable__control sk-hidden--visually\" id=\"sk-estimator-id-1\" type=\"checkbox\" checked><label for=\"sk-estimator-id-1\" class=\"sk-toggleable__label sk-toggleable__label-arrow\">LogisticRegression</label><div class=\"sk-toggleable__content\"><pre>LogisticRegression(random_state=1)</pre></div></div></div></div></div>"
            ]
          },
          "metadata": {},
          "execution_count": 21
        }
      ]
    },
    {
      "cell_type": "code",
      "source": [
        "#logreg.predict(X_test).shape"
      ],
      "metadata": {
        "id": "U_Fl3BT-vNgp"
      },
      "execution_count": 22,
      "outputs": []
    },
    {
      "cell_type": "code",
      "source": [
        "y_pred = logreg.predict(X_test)"
      ],
      "metadata": {
        "id": "eqR_t_QnvjxE"
      },
      "execution_count": 23,
      "outputs": []
    },
    {
      "cell_type": "code",
      "source": [
        "y_test"
      ],
      "metadata": {
        "id": "zJchKSP_cy4C",
        "colab": {
          "base_uri": "https://localhost:8080/"
        },
        "outputId": "06808b81-84f6-48e6-9fe4-30e9ea26770d"
      },
      "execution_count": 24,
      "outputs": [
        {
          "output_type": "execute_result",
          "data": {
            "text/plain": [
              "21960     0\n",
              "67065     0\n",
              "80948     0\n",
              "7524      0\n",
              "97849     0\n",
              "         ..\n",
              "218437    0\n",
              "130633    0\n",
              "158369    0\n",
              "13271     0\n",
              "188040    0\n",
              "Name: Class, Length: 65739, dtype: int64"
            ]
          },
          "metadata": {},
          "execution_count": 24
        }
      ]
    },
    {
      "cell_type": "code",
      "source": [
        "accuracy = accuracy_score(y_test,y_pred)\n",
        "print(\"Accuracy:\",accuracy)"
      ],
      "metadata": {
        "id": "MohdCrGJv7Br",
        "colab": {
          "base_uri": "https://localhost:8080/"
        },
        "outputId": "5b622e70-bffe-4e39-a5ef-ed743c19a808"
      },
      "execution_count": 25,
      "outputs": [
        {
          "output_type": "stream",
          "name": "stdout",
          "text": [
            "Accuracy: 0.9977182494409711\n"
          ]
        }
      ]
    },
    {
      "cell_type": "code",
      "source": [
        "#df_test = pd.read_csv('/content/drive/MyDrive/12th Grade/Machine Learning/Data/credit/test 2.csv')"
      ],
      "metadata": {
        "id": "kq-D-bEBePVV"
      },
      "execution_count": 26,
      "outputs": []
    },
    {
      "cell_type": "code",
      "source": [
        "df_test.columns"
      ],
      "metadata": {
        "id": "WIBxOEg3c7Y8",
        "colab": {
          "base_uri": "https://localhost:8080/"
        },
        "outputId": "5e8d72ea-6767-464c-d098-16fd884c5375"
      },
      "execution_count": 27,
      "outputs": [
        {
          "output_type": "execute_result",
          "data": {
            "text/plain": [
              "Index(['id', 'Time', 'V1', 'V2', 'V3', 'V4', 'V5', 'V6', 'V7', 'V8', 'V9',\n",
              "       'V10', 'V11', 'V12', 'V13', 'V14', 'V15', 'V16', 'V17', 'V18', 'V19',\n",
              "       'V20', 'V21', 'V22', 'V23', 'V24', 'V25', 'V26', 'V27', 'V28',\n",
              "       'Amount'],\n",
              "      dtype='object')"
            ]
          },
          "metadata": {},
          "execution_count": 27
        }
      ]
    },
    {
      "cell_type": "code",
      "source": [
        "X_testK = df[features]"
      ],
      "metadata": {
        "id": "jguUqWQyw2CL"
      },
      "execution_count": 28,
      "outputs": []
    },
    {
      "cell_type": "code",
      "source": [
        "y_predK = logreg.predict(X_testK)"
      ],
      "metadata": {
        "id": "s-VZ-gkfxeH9"
      },
      "execution_count": 29,
      "outputs": []
    },
    {
      "cell_type": "code",
      "source": [
        "y_predK.shape"
      ],
      "metadata": {
        "id": "nr59MBUVxq5n",
        "colab": {
          "base_uri": "https://localhost:8080/"
        },
        "outputId": "122f7a6a-a033-4aa5-9da4-b4299a551c4e"
      },
      "execution_count": 30,
      "outputs": [
        {
          "output_type": "execute_result",
          "data": {
            "text/plain": [
              "(219129,)"
            ]
          },
          "metadata": {},
          "execution_count": 30
        }
      ]
    },
    {
      "cell_type": "code",
      "source": [
        "y_predK"
      ],
      "metadata": {
        "id": "WwJ6McVEyfQy",
        "colab": {
          "base_uri": "https://localhost:8080/"
        },
        "outputId": "ffe2e52f-e09a-497d-897f-bd14129d5673"
      },
      "execution_count": 31,
      "outputs": [
        {
          "output_type": "execute_result",
          "data": {
            "text/plain": [
              "array([0, 0, 0, ..., 0, 0, 0])"
            ]
          },
          "metadata": {},
          "execution_count": 31
        }
      ]
    },
    {
      "cell_type": "code",
      "source": [
        "#kaggle = pd.DataFrame(data = {'id':df_Test['id'], 'Class':y_predK})"
      ],
      "metadata": {
        "id": "bKHkteE6YUU5"
      },
      "execution_count": 32,
      "outputs": []
    },
    {
      "cell_type": "code",
      "source": [
        "kaggle = pd.DataFrame()"
      ],
      "metadata": {
        "id": "zMTCUJXLc-Bu"
      },
      "execution_count": 33,
      "outputs": []
    },
    {
      "cell_type": "code",
      "source": [
        "kaggle[\"Class\"] = y_predk = logreg.predict(X_testK)"
      ],
      "metadata": {
        "id": "DOQLhRoedNQ8"
      },
      "execution_count": 34,
      "outputs": []
    },
    {
      "cell_type": "code",
      "source": [
        "kaggle = kaggle.reset_index()"
      ],
      "metadata": {
        "id": "bO6V2yYoemy3"
      },
      "execution_count": 35,
      "outputs": []
    },
    {
      "cell_type": "code",
      "source": [
        "kaggle.columns"
      ],
      "metadata": {
        "id": "O-XIDzs9dPTb",
        "colab": {
          "base_uri": "https://localhost:8080/"
        },
        "outputId": "ff3a05da-1b26-4e10-806f-5fd97eee7086"
      },
      "execution_count": 36,
      "outputs": [
        {
          "output_type": "execute_result",
          "data": {
            "text/plain": [
              "Index(['index', 'Class'], dtype='object')"
            ]
          },
          "metadata": {},
          "execution_count": 36
        }
      ]
    },
    {
      "cell_type": "code",
      "source": [
        "#kaggle = kaggle.drop('id', axis=1)"
      ],
      "metadata": {
        "id": "9F-62eRRdQRZ"
      },
      "execution_count": 37,
      "outputs": []
    },
    {
      "cell_type": "code",
      "source": [
        "kaggle"
      ],
      "metadata": {
        "id": "xvFu6rz7dRmJ",
        "colab": {
          "base_uri": "https://localhost:8080/",
          "height": 423
        },
        "outputId": "a3559897-9ecb-467e-bd59-5059b0a5701a"
      },
      "execution_count": 38,
      "outputs": [
        {
          "output_type": "execute_result",
          "data": {
            "text/plain": [
              "         index  Class\n",
              "0            0      0\n",
              "1            1      0\n",
              "2            2      0\n",
              "3            3      0\n",
              "4            4      0\n",
              "...        ...    ...\n",
              "219124  219124      0\n",
              "219125  219125      0\n",
              "219126  219126      0\n",
              "219127  219127      0\n",
              "219128  219128      0\n",
              "\n",
              "[219129 rows x 2 columns]"
            ],
            "text/html": [
              "\n",
              "  <div id=\"df-84c908cf-9bc2-4f0f-9bd3-bfcb19b305b0\" class=\"colab-df-container\">\n",
              "    <div>\n",
              "<style scoped>\n",
              "    .dataframe tbody tr th:only-of-type {\n",
              "        vertical-align: middle;\n",
              "    }\n",
              "\n",
              "    .dataframe tbody tr th {\n",
              "        vertical-align: top;\n",
              "    }\n",
              "\n",
              "    .dataframe thead th {\n",
              "        text-align: right;\n",
              "    }\n",
              "</style>\n",
              "<table border=\"1\" class=\"dataframe\">\n",
              "  <thead>\n",
              "    <tr style=\"text-align: right;\">\n",
              "      <th></th>\n",
              "      <th>index</th>\n",
              "      <th>Class</th>\n",
              "    </tr>\n",
              "  </thead>\n",
              "  <tbody>\n",
              "    <tr>\n",
              "      <th>0</th>\n",
              "      <td>0</td>\n",
              "      <td>0</td>\n",
              "    </tr>\n",
              "    <tr>\n",
              "      <th>1</th>\n",
              "      <td>1</td>\n",
              "      <td>0</td>\n",
              "    </tr>\n",
              "    <tr>\n",
              "      <th>2</th>\n",
              "      <td>2</td>\n",
              "      <td>0</td>\n",
              "    </tr>\n",
              "    <tr>\n",
              "      <th>3</th>\n",
              "      <td>3</td>\n",
              "      <td>0</td>\n",
              "    </tr>\n",
              "    <tr>\n",
              "      <th>4</th>\n",
              "      <td>4</td>\n",
              "      <td>0</td>\n",
              "    </tr>\n",
              "    <tr>\n",
              "      <th>...</th>\n",
              "      <td>...</td>\n",
              "      <td>...</td>\n",
              "    </tr>\n",
              "    <tr>\n",
              "      <th>219124</th>\n",
              "      <td>219124</td>\n",
              "      <td>0</td>\n",
              "    </tr>\n",
              "    <tr>\n",
              "      <th>219125</th>\n",
              "      <td>219125</td>\n",
              "      <td>0</td>\n",
              "    </tr>\n",
              "    <tr>\n",
              "      <th>219126</th>\n",
              "      <td>219126</td>\n",
              "      <td>0</td>\n",
              "    </tr>\n",
              "    <tr>\n",
              "      <th>219127</th>\n",
              "      <td>219127</td>\n",
              "      <td>0</td>\n",
              "    </tr>\n",
              "    <tr>\n",
              "      <th>219128</th>\n",
              "      <td>219128</td>\n",
              "      <td>0</td>\n",
              "    </tr>\n",
              "  </tbody>\n",
              "</table>\n",
              "<p>219129 rows × 2 columns</p>\n",
              "</div>\n",
              "    <div class=\"colab-df-buttons\">\n",
              "\n",
              "  <div class=\"colab-df-container\">\n",
              "    <button class=\"colab-df-convert\" onclick=\"convertToInteractive('df-84c908cf-9bc2-4f0f-9bd3-bfcb19b305b0')\"\n",
              "            title=\"Convert this dataframe to an interactive table.\"\n",
              "            style=\"display:none;\">\n",
              "\n",
              "  <svg xmlns=\"http://www.w3.org/2000/svg\" height=\"24px\" viewBox=\"0 -960 960 960\">\n",
              "    <path d=\"M120-120v-720h720v720H120Zm60-500h600v-160H180v160Zm220 220h160v-160H400v160Zm0 220h160v-160H400v160ZM180-400h160v-160H180v160Zm440 0h160v-160H620v160ZM180-180h160v-160H180v160Zm440 0h160v-160H620v160Z\"/>\n",
              "  </svg>\n",
              "    </button>\n",
              "\n",
              "  <style>\n",
              "    .colab-df-container {\n",
              "      display:flex;\n",
              "      gap: 12px;\n",
              "    }\n",
              "\n",
              "    .colab-df-convert {\n",
              "      background-color: #E8F0FE;\n",
              "      border: none;\n",
              "      border-radius: 50%;\n",
              "      cursor: pointer;\n",
              "      display: none;\n",
              "      fill: #1967D2;\n",
              "      height: 32px;\n",
              "      padding: 0 0 0 0;\n",
              "      width: 32px;\n",
              "    }\n",
              "\n",
              "    .colab-df-convert:hover {\n",
              "      background-color: #E2EBFA;\n",
              "      box-shadow: 0px 1px 2px rgba(60, 64, 67, 0.3), 0px 1px 3px 1px rgba(60, 64, 67, 0.15);\n",
              "      fill: #174EA6;\n",
              "    }\n",
              "\n",
              "    .colab-df-buttons div {\n",
              "      margin-bottom: 4px;\n",
              "    }\n",
              "\n",
              "    [theme=dark] .colab-df-convert {\n",
              "      background-color: #3B4455;\n",
              "      fill: #D2E3FC;\n",
              "    }\n",
              "\n",
              "    [theme=dark] .colab-df-convert:hover {\n",
              "      background-color: #434B5C;\n",
              "      box-shadow: 0px 1px 3px 1px rgba(0, 0, 0, 0.15);\n",
              "      filter: drop-shadow(0px 1px 2px rgba(0, 0, 0, 0.3));\n",
              "      fill: #FFFFFF;\n",
              "    }\n",
              "  </style>\n",
              "\n",
              "    <script>\n",
              "      const buttonEl =\n",
              "        document.querySelector('#df-84c908cf-9bc2-4f0f-9bd3-bfcb19b305b0 button.colab-df-convert');\n",
              "      buttonEl.style.display =\n",
              "        google.colab.kernel.accessAllowed ? 'block' : 'none';\n",
              "\n",
              "      async function convertToInteractive(key) {\n",
              "        const element = document.querySelector('#df-84c908cf-9bc2-4f0f-9bd3-bfcb19b305b0');\n",
              "        const dataTable =\n",
              "          await google.colab.kernel.invokeFunction('convertToInteractive',\n",
              "                                                    [key], {});\n",
              "        if (!dataTable) return;\n",
              "\n",
              "        const docLinkHtml = 'Like what you see? Visit the ' +\n",
              "          '<a target=\"_blank\" href=https://colab.research.google.com/notebooks/data_table.ipynb>data table notebook</a>'\n",
              "          + ' to learn more about interactive tables.';\n",
              "        element.innerHTML = '';\n",
              "        dataTable['output_type'] = 'display_data';\n",
              "        await google.colab.output.renderOutput(dataTable, element);\n",
              "        const docLink = document.createElement('div');\n",
              "        docLink.innerHTML = docLinkHtml;\n",
              "        element.appendChild(docLink);\n",
              "      }\n",
              "    </script>\n",
              "  </div>\n",
              "\n",
              "\n",
              "<div id=\"df-01a1aaf7-2b17-48a2-a652-9c75cb5ecbed\">\n",
              "  <button class=\"colab-df-quickchart\" onclick=\"quickchart('df-01a1aaf7-2b17-48a2-a652-9c75cb5ecbed')\"\n",
              "            title=\"Suggest charts\"\n",
              "            style=\"display:none;\">\n",
              "\n",
              "<svg xmlns=\"http://www.w3.org/2000/svg\" height=\"24px\"viewBox=\"0 0 24 24\"\n",
              "     width=\"24px\">\n",
              "    <g>\n",
              "        <path d=\"M19 3H5c-1.1 0-2 .9-2 2v14c0 1.1.9 2 2 2h14c1.1 0 2-.9 2-2V5c0-1.1-.9-2-2-2zM9 17H7v-7h2v7zm4 0h-2V7h2v10zm4 0h-2v-4h2v4z\"/>\n",
              "    </g>\n",
              "</svg>\n",
              "  </button>\n",
              "\n",
              "<style>\n",
              "  .colab-df-quickchart {\n",
              "      --bg-color: #E8F0FE;\n",
              "      --fill-color: #1967D2;\n",
              "      --hover-bg-color: #E2EBFA;\n",
              "      --hover-fill-color: #174EA6;\n",
              "      --disabled-fill-color: #AAA;\n",
              "      --disabled-bg-color: #DDD;\n",
              "  }\n",
              "\n",
              "  [theme=dark] .colab-df-quickchart {\n",
              "      --bg-color: #3B4455;\n",
              "      --fill-color: #D2E3FC;\n",
              "      --hover-bg-color: #434B5C;\n",
              "      --hover-fill-color: #FFFFFF;\n",
              "      --disabled-bg-color: #3B4455;\n",
              "      --disabled-fill-color: #666;\n",
              "  }\n",
              "\n",
              "  .colab-df-quickchart {\n",
              "    background-color: var(--bg-color);\n",
              "    border: none;\n",
              "    border-radius: 50%;\n",
              "    cursor: pointer;\n",
              "    display: none;\n",
              "    fill: var(--fill-color);\n",
              "    height: 32px;\n",
              "    padding: 0;\n",
              "    width: 32px;\n",
              "  }\n",
              "\n",
              "  .colab-df-quickchart:hover {\n",
              "    background-color: var(--hover-bg-color);\n",
              "    box-shadow: 0 1px 2px rgba(60, 64, 67, 0.3), 0 1px 3px 1px rgba(60, 64, 67, 0.15);\n",
              "    fill: var(--button-hover-fill-color);\n",
              "  }\n",
              "\n",
              "  .colab-df-quickchart-complete:disabled,\n",
              "  .colab-df-quickchart-complete:disabled:hover {\n",
              "    background-color: var(--disabled-bg-color);\n",
              "    fill: var(--disabled-fill-color);\n",
              "    box-shadow: none;\n",
              "  }\n",
              "\n",
              "  .colab-df-spinner {\n",
              "    border: 2px solid var(--fill-color);\n",
              "    border-color: transparent;\n",
              "    border-bottom-color: var(--fill-color);\n",
              "    animation:\n",
              "      spin 1s steps(1) infinite;\n",
              "  }\n",
              "\n",
              "  @keyframes spin {\n",
              "    0% {\n",
              "      border-color: transparent;\n",
              "      border-bottom-color: var(--fill-color);\n",
              "      border-left-color: var(--fill-color);\n",
              "    }\n",
              "    20% {\n",
              "      border-color: transparent;\n",
              "      border-left-color: var(--fill-color);\n",
              "      border-top-color: var(--fill-color);\n",
              "    }\n",
              "    30% {\n",
              "      border-color: transparent;\n",
              "      border-left-color: var(--fill-color);\n",
              "      border-top-color: var(--fill-color);\n",
              "      border-right-color: var(--fill-color);\n",
              "    }\n",
              "    40% {\n",
              "      border-color: transparent;\n",
              "      border-right-color: var(--fill-color);\n",
              "      border-top-color: var(--fill-color);\n",
              "    }\n",
              "    60% {\n",
              "      border-color: transparent;\n",
              "      border-right-color: var(--fill-color);\n",
              "    }\n",
              "    80% {\n",
              "      border-color: transparent;\n",
              "      border-right-color: var(--fill-color);\n",
              "      border-bottom-color: var(--fill-color);\n",
              "    }\n",
              "    90% {\n",
              "      border-color: transparent;\n",
              "      border-bottom-color: var(--fill-color);\n",
              "    }\n",
              "  }\n",
              "</style>\n",
              "\n",
              "  <script>\n",
              "    async function quickchart(key) {\n",
              "      const quickchartButtonEl =\n",
              "        document.querySelector('#' + key + ' button');\n",
              "      quickchartButtonEl.disabled = true;  // To prevent multiple clicks.\n",
              "      quickchartButtonEl.classList.add('colab-df-spinner');\n",
              "      try {\n",
              "        const charts = await google.colab.kernel.invokeFunction(\n",
              "            'suggestCharts', [key], {});\n",
              "      } catch (error) {\n",
              "        console.error('Error during call to suggestCharts:', error);\n",
              "      }\n",
              "      quickchartButtonEl.classList.remove('colab-df-spinner');\n",
              "      quickchartButtonEl.classList.add('colab-df-quickchart-complete');\n",
              "    }\n",
              "    (() => {\n",
              "      let quickchartButtonEl =\n",
              "        document.querySelector('#df-01a1aaf7-2b17-48a2-a652-9c75cb5ecbed button');\n",
              "      quickchartButtonEl.style.display =\n",
              "        google.colab.kernel.accessAllowed ? 'block' : 'none';\n",
              "    })();\n",
              "  </script>\n",
              "</div>\n",
              "    </div>\n",
              "  </div>\n"
            ]
          },
          "metadata": {},
          "execution_count": 38
        }
      ]
    },
    {
      "cell_type": "code",
      "source": [
        "kaggle.columns = ['id','Class']"
      ],
      "metadata": {
        "id": "k7rO_j9XdTUL"
      },
      "execution_count": 39,
      "outputs": []
    },
    {
      "cell_type": "code",
      "source": [
        "kaggle.to_csv('/content/drive/MyDrive/12th Grade/Machine Learning/Data/testing_submission(credit card).csv')"
      ],
      "metadata": {
        "id": "rhQfhZivdUpt"
      },
      "execution_count": 40,
      "outputs": []
    },
    {
      "cell_type": "code",
      "source": [
        "df_sample.shape"
      ],
      "metadata": {
        "id": "3L3-lgNxdXFl",
        "colab": {
          "base_uri": "https://localhost:8080/"
        },
        "outputId": "d0afdedf-5a5e-41a8-fa17-633d222af075"
      },
      "execution_count": 41,
      "outputs": [
        {
          "output_type": "execute_result",
          "data": {
            "text/plain": [
              "(146087, 2)"
            ]
          },
          "metadata": {},
          "execution_count": 41
        }
      ]
    },
    {
      "cell_type": "markdown",
      "source": [
        "10/12"
      ],
      "metadata": {
        "id": "fDCKw7RGaNo7"
      }
    },
    {
      "cell_type": "code",
      "source": [
        "import pandas as pd\n",
        "from sklearn.linear_model import LogisticRegression\n",
        "from sklearn.model_selection import train_test_split\n",
        "from sklearn.metrics import accuracy_score"
      ],
      "metadata": {
        "id": "Ur6wkk70aNXI"
      },
      "execution_count": 42,
      "outputs": []
    },
    {
      "cell_type": "code",
      "source": [
        "df = pd.read_csv('/content/drive/MyDrive/12th Grade/Machine Learning/Data/Semester 1/train(credit card).csv')"
      ],
      "metadata": {
        "id": "uO1Ggz0gaXQa"
      },
      "execution_count": 44,
      "outputs": []
    },
    {
      "cell_type": "code",
      "source": [
        "df.columns"
      ],
      "metadata": {
        "id": "rqcaypRSakB9",
        "colab": {
          "base_uri": "https://localhost:8080/"
        },
        "outputId": "df2fb23e-4b4d-4b27-b43d-c01a73cc436b"
      },
      "execution_count": 46,
      "outputs": [
        {
          "output_type": "execute_result",
          "data": {
            "text/plain": [
              "Index(['id', 'Time', 'V1', 'V2', 'V3', 'V4', 'V5', 'V6', 'V7', 'V8', 'V9',\n",
              "       'V10', 'V11', 'V12', 'V13', 'V14', 'V15', 'V16', 'V17', 'V18', 'V19',\n",
              "       'V20', 'V21', 'V22', 'V23', 'V24', 'V25', 'V26', 'V27', 'V28', 'Amount',\n",
              "       'Class'],\n",
              "      dtype='object')"
            ]
          },
          "metadata": {},
          "execution_count": 46
        }
      ]
    },
    {
      "cell_type": "code",
      "source": [
        "df['Time'].unique()"
      ],
      "metadata": {
        "id": "vgVRYYv8azVV",
        "colab": {
          "base_uri": "https://localhost:8080/"
        },
        "outputId": "fe89d053-bccf-4a6b-b1cf-2c1e898ec27c"
      },
      "execution_count": 47,
      "outputs": [
        {
          "output_type": "execute_result",
          "data": {
            "text/plain": [
              "array([0.00000e+00, 2.00000e-02, 4.00000e-02, ..., 1.20578e+05,\n",
              "       1.20579e+05, 1.20580e+05])"
            ]
          },
          "metadata": {},
          "execution_count": 47
        }
      ]
    },
    {
      "cell_type": "code",
      "source": [
        "fetures = ['Time', 'V1', 'V2', 'V3', 'V4', 'V5', 'V6', 'V7', 'V8', 'V9',\n",
        "       'V10', 'V11', 'V12', 'V13', 'V14', 'V15', 'V16', 'V17', 'V18', 'V19',\n",
        "       'V20', 'V21', 'V22', 'V23', 'V24', 'V25', 'V26', 'V27', 'V28', 'Amount',\n",
        "       'Class']"
      ],
      "metadata": {
        "id": "TB5OgPqdaha9"
      },
      "execution_count": 48,
      "outputs": []
    },
    {
      "cell_type": "code",
      "source": [
        "df['Class'].value_counts().loc[1]/219129*100"
      ],
      "metadata": {
        "id": "L1JLGHIYb3pL",
        "colab": {
          "base_uri": "https://localhost:8080/"
        },
        "outputId": "ae9e9429-dddc-40c4-eb2d-0aee0f6d8459"
      },
      "execution_count": 49,
      "outputs": [
        {
          "output_type": "execute_result",
          "data": {
            "text/plain": [
              "0.214029179159308"
            ]
          },
          "metadata": {},
          "execution_count": 49
        }
      ]
    },
    {
      "cell_type": "code",
      "source": [
        "df.shape"
      ],
      "metadata": {
        "id": "5jwd-aYjcFKc",
        "colab": {
          "base_uri": "https://localhost:8080/"
        },
        "outputId": "1339af22-9a62-414e-c8f7-533278b55573"
      },
      "execution_count": 50,
      "outputs": [
        {
          "output_type": "execute_result",
          "data": {
            "text/plain": [
              "(219129, 32)"
            ]
          },
          "metadata": {},
          "execution_count": 50
        }
      ]
    },
    {
      "cell_type": "code",
      "source": [
        "features  = ['Time', 'V1', 'V2', 'V3', 'V4', 'V5', 'V6', 'V7', 'V8', 'V9',\n",
        "       'V10', 'V11', 'V12', 'V13', 'V14', 'V15', 'V16', 'V17', 'V18', 'V19',\n",
        "       'V20', 'V21', 'V22', 'V23', 'V24', 'V25', 'V26', 'V27', 'V28', 'Amount']"
      ],
      "metadata": {
        "id": "enRV8g7ed6ps"
      },
      "execution_count": 51,
      "outputs": []
    },
    {
      "cell_type": "code",
      "source": [
        "y = df['Class']\n",
        "X = df[features]"
      ],
      "metadata": {
        "id": "yPWk1DsVeCGO"
      },
      "execution_count": 52,
      "outputs": []
    },
    {
      "cell_type": "code",
      "source": [
        "from sklearn.model_selection import train_test_split\n",
        "from sklearn.linear_model import LogisticRegression\n",
        "from sklearn.metrics import classification_report\n",
        "\n",
        "X_train, X_test, y_train, y_test = train_test_split(X, y, test_size=0.2, random_state=42)\n",
        "\n",
        "lr = LogisticRegression(class_weight='balanced')\n",
        "\n",
        "lr.fit(X_train, y_train)\n",
        "\n",
        "y_pred_rf = lr.predict(X_test)"
      ],
      "metadata": {
        "id": "iFHvpGE5d5df"
      },
      "execution_count": 57,
      "outputs": []
    },
    {
      "cell_type": "code",
      "source": [
        "accuracy = accuracy_score(y_test, y_pred_rf)\n",
        "print(accuracy)"
      ],
      "metadata": {
        "id": "LNQjz00GivDd",
        "colab": {
          "base_uri": "https://localhost:8080/"
        },
        "outputId": "640bf5ab-31e3-41a6-cf1e-f7a6c7544eb9"
      },
      "execution_count": 58,
      "outputs": [
        {
          "output_type": "stream",
          "name": "stdout",
          "text": [
            "0.7984529731209784\n"
          ]
        }
      ]
    },
    {
      "cell_type": "code",
      "source": [
        "y_pred_rf"
      ],
      "metadata": {
        "id": "bM80rHqyjGYv",
        "colab": {
          "base_uri": "https://localhost:8080/"
        },
        "outputId": "988af637-3495-428d-d99b-cc35e12a56bb"
      },
      "execution_count": 59,
      "outputs": [
        {
          "output_type": "execute_result",
          "data": {
            "text/plain": [
              "array([0, 0, 0, ..., 0, 1, 0])"
            ]
          },
          "metadata": {},
          "execution_count": 59
        }
      ]
    },
    {
      "cell_type": "code",
      "source": [
        "from sklearn.ensemble import RandomForestClassifier\n",
        "from sklearn.metrics import classification_report\n",
        "from sklearn.model_selection import train_test_split\n",
        "\n",
        "# Split your data into training and testing sets\n",
        "X_train, X_test, y_train, y_test = train_test_split(X, y, test_size=0.2, random_state=42)\n",
        "\n",
        "# Initialize and train the Random Forest model\n",
        "rf_model = RandomForestClassifier(n_estimators=100, random_state=42, class_weight='balanced')\n",
        "rf_model.fit(X_train, y_train)\n",
        "\n",
        "# Make predictions with the Random Forest model\n",
        "y_pred_rf = rf_model.predict(X_test)\n",
        "\n",
        "# Evaluate the Random Forest model\n",
        "accuracy = accuracy_score(y_test, y_pred_rf)\n",
        "print(accuracy)"
      ],
      "metadata": {
        "id": "8mhrHgB4fIuR"
      },
      "execution_count": null,
      "outputs": []
    },
    {
      "cell_type": "code",
      "source": [
        "'''\n",
        "from sklearn.svm import SVC\n",
        "from sklearn.metrics import classification_report\n",
        "from sklearn.model_selection import train_test_split\n",
        "\n",
        "# Split your data into training and testing sets\n",
        "X_train, X_test, y_train, y_test = train_test_split(X, y, test_size=0.2, random_state=42)\n",
        "\n",
        "# Initialize and train the SVM model\n",
        "svm_model = SVC(kernel='linear', class_weight='balanced', random_state=42)\n",
        "svm_model.fit(X_train, y_train)\n",
        "\n",
        "# Make predictions with the SVM model\n",
        "y_pred_svm = svm_model.predict(X_test)\n",
        "\n",
        "# Evaluate the SVM model\n",
        "print(\"\\nSupport Vector Machine:\")\n",
        "print(classification_report(y_test, y_pred_svm))\n",
        "'''\n"
      ],
      "metadata": {
        "id": "_IPBTcEVgDgO"
      },
      "execution_count": null,
      "outputs": []
    },
    {
      "cell_type": "code",
      "source": [
        "kaggle2 = [df['id']]"
      ],
      "metadata": {
        "id": "79-04vHLkeu8"
      },
      "execution_count": null,
      "outputs": []
    },
    {
      "cell_type": "code",
      "source": [
        "kaggle2.loc[:,'Class'] = y_pred_rf"
      ],
      "metadata": {
        "id": "fRfTFCi5kHSc"
      },
      "execution_count": null,
      "outputs": []
    },
    {
      "cell_type": "code",
      "source": [
        "kaggle2.to_csv('/content/drive/MyDrive/12th Grade/Machine Learning/Data/testing_submission2(credit card).csv', index=False)"
      ],
      "metadata": {
        "id": "BUEFX9culB1H"
      },
      "execution_count": null,
      "outputs": []
    }
  ]
}