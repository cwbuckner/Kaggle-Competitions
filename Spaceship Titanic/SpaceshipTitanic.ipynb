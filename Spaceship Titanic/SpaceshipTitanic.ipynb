{
  "nbformat": 4,
  "nbformat_minor": 0,
  "metadata": {
    "colab": {
      "provenance": []
    },
    "kernelspec": {
      "name": "python3",
      "display_name": "Python 3"
    },
    "language_info": {
      "name": "python"
    }
  },
  "cells": [
    {
      "cell_type": "code",
      "execution_count": null,
      "metadata": {
        "id": "vD1BJNSipt05"
      },
      "outputs": [],
      "source": [
        "import pandas as pd\n",
        "df = pd.read_csv('/content/drive/MyDrive/12th Grade/Machine Learning/Data/spaceshipTitanic_train.csv')\n",
        "df_test = pd.read_csv('/content/drive/MyDrive/12th Grade/Machine Learning/Data/spaceshipTitanic_test.csv')"
      ]
    },
    {
      "cell_type": "code",
      "source": [
        "df.head()"
      ],
      "metadata": {
        "colab": {
          "base_uri": "https://localhost:8080/",
          "height": 206
        },
        "id": "Cmj0ujpCZ0l-",
        "outputId": "fa5392b7-fc86-4f29-cf01-9908d4da26f8"
      },
      "execution_count": null,
      "outputs": [
        {
          "output_type": "execute_result",
          "data": {
            "text/plain": [
              "  PassengerId HomePlanet CryoSleep  Cabin  Destination   Age    VIP  \\\n",
              "0     0001_01     Europa     False  B/0/P  TRAPPIST-1e  39.0  False   \n",
              "1     0002_01      Earth     False  F/0/S  TRAPPIST-1e  24.0  False   \n",
              "2     0003_01     Europa     False  A/0/S  TRAPPIST-1e  58.0   True   \n",
              "3     0003_02     Europa     False  A/0/S  TRAPPIST-1e  33.0  False   \n",
              "4     0004_01      Earth     False  F/1/S  TRAPPIST-1e  16.0  False   \n",
              "\n",
              "   RoomService  FoodCourt  ShoppingMall     Spa  VRDeck               Name  \\\n",
              "0          0.0        0.0           0.0     0.0     0.0    Maham Ofracculy   \n",
              "1        109.0        9.0          25.0   549.0    44.0       Juanna Vines   \n",
              "2         43.0     3576.0           0.0  6715.0    49.0      Altark Susent   \n",
              "3          0.0     1283.0         371.0  3329.0   193.0       Solam Susent   \n",
              "4        303.0       70.0         151.0   565.0     2.0  Willy Santantines   \n",
              "\n",
              "   Transported  \n",
              "0        False  \n",
              "1         True  \n",
              "2        False  \n",
              "3        False  \n",
              "4         True  "
            ],
            "text/html": [
              "\n",
              "  <div id=\"df-a105b8f6-4f3b-4c90-918d-737861ff78ab\" class=\"colab-df-container\">\n",
              "    <div>\n",
              "<style scoped>\n",
              "    .dataframe tbody tr th:only-of-type {\n",
              "        vertical-align: middle;\n",
              "    }\n",
              "\n",
              "    .dataframe tbody tr th {\n",
              "        vertical-align: top;\n",
              "    }\n",
              "\n",
              "    .dataframe thead th {\n",
              "        text-align: right;\n",
              "    }\n",
              "</style>\n",
              "<table border=\"1\" class=\"dataframe\">\n",
              "  <thead>\n",
              "    <tr style=\"text-align: right;\">\n",
              "      <th></th>\n",
              "      <th>PassengerId</th>\n",
              "      <th>HomePlanet</th>\n",
              "      <th>CryoSleep</th>\n",
              "      <th>Cabin</th>\n",
              "      <th>Destination</th>\n",
              "      <th>Age</th>\n",
              "      <th>VIP</th>\n",
              "      <th>RoomService</th>\n",
              "      <th>FoodCourt</th>\n",
              "      <th>ShoppingMall</th>\n",
              "      <th>Spa</th>\n",
              "      <th>VRDeck</th>\n",
              "      <th>Name</th>\n",
              "      <th>Transported</th>\n",
              "    </tr>\n",
              "  </thead>\n",
              "  <tbody>\n",
              "    <tr>\n",
              "      <th>0</th>\n",
              "      <td>0001_01</td>\n",
              "      <td>Europa</td>\n",
              "      <td>False</td>\n",
              "      <td>B/0/P</td>\n",
              "      <td>TRAPPIST-1e</td>\n",
              "      <td>39.0</td>\n",
              "      <td>False</td>\n",
              "      <td>0.0</td>\n",
              "      <td>0.0</td>\n",
              "      <td>0.0</td>\n",
              "      <td>0.0</td>\n",
              "      <td>0.0</td>\n",
              "      <td>Maham Ofracculy</td>\n",
              "      <td>False</td>\n",
              "    </tr>\n",
              "    <tr>\n",
              "      <th>1</th>\n",
              "      <td>0002_01</td>\n",
              "      <td>Earth</td>\n",
              "      <td>False</td>\n",
              "      <td>F/0/S</td>\n",
              "      <td>TRAPPIST-1e</td>\n",
              "      <td>24.0</td>\n",
              "      <td>False</td>\n",
              "      <td>109.0</td>\n",
              "      <td>9.0</td>\n",
              "      <td>25.0</td>\n",
              "      <td>549.0</td>\n",
              "      <td>44.0</td>\n",
              "      <td>Juanna Vines</td>\n",
              "      <td>True</td>\n",
              "    </tr>\n",
              "    <tr>\n",
              "      <th>2</th>\n",
              "      <td>0003_01</td>\n",
              "      <td>Europa</td>\n",
              "      <td>False</td>\n",
              "      <td>A/0/S</td>\n",
              "      <td>TRAPPIST-1e</td>\n",
              "      <td>58.0</td>\n",
              "      <td>True</td>\n",
              "      <td>43.0</td>\n",
              "      <td>3576.0</td>\n",
              "      <td>0.0</td>\n",
              "      <td>6715.0</td>\n",
              "      <td>49.0</td>\n",
              "      <td>Altark Susent</td>\n",
              "      <td>False</td>\n",
              "    </tr>\n",
              "    <tr>\n",
              "      <th>3</th>\n",
              "      <td>0003_02</td>\n",
              "      <td>Europa</td>\n",
              "      <td>False</td>\n",
              "      <td>A/0/S</td>\n",
              "      <td>TRAPPIST-1e</td>\n",
              "      <td>33.0</td>\n",
              "      <td>False</td>\n",
              "      <td>0.0</td>\n",
              "      <td>1283.0</td>\n",
              "      <td>371.0</td>\n",
              "      <td>3329.0</td>\n",
              "      <td>193.0</td>\n",
              "      <td>Solam Susent</td>\n",
              "      <td>False</td>\n",
              "    </tr>\n",
              "    <tr>\n",
              "      <th>4</th>\n",
              "      <td>0004_01</td>\n",
              "      <td>Earth</td>\n",
              "      <td>False</td>\n",
              "      <td>F/1/S</td>\n",
              "      <td>TRAPPIST-1e</td>\n",
              "      <td>16.0</td>\n",
              "      <td>False</td>\n",
              "      <td>303.0</td>\n",
              "      <td>70.0</td>\n",
              "      <td>151.0</td>\n",
              "      <td>565.0</td>\n",
              "      <td>2.0</td>\n",
              "      <td>Willy Santantines</td>\n",
              "      <td>True</td>\n",
              "    </tr>\n",
              "  </tbody>\n",
              "</table>\n",
              "</div>\n",
              "    <div class=\"colab-df-buttons\">\n",
              "\n",
              "  <div class=\"colab-df-container\">\n",
              "    <button class=\"colab-df-convert\" onclick=\"convertToInteractive('df-a105b8f6-4f3b-4c90-918d-737861ff78ab')\"\n",
              "            title=\"Convert this dataframe to an interactive table.\"\n",
              "            style=\"display:none;\">\n",
              "\n",
              "  <svg xmlns=\"http://www.w3.org/2000/svg\" height=\"24px\" viewBox=\"0 -960 960 960\">\n",
              "    <path d=\"M120-120v-720h720v720H120Zm60-500h600v-160H180v160Zm220 220h160v-160H400v160Zm0 220h160v-160H400v160ZM180-400h160v-160H180v160Zm440 0h160v-160H620v160ZM180-180h160v-160H180v160Zm440 0h160v-160H620v160Z\"/>\n",
              "  </svg>\n",
              "    </button>\n",
              "\n",
              "  <style>\n",
              "    .colab-df-container {\n",
              "      display:flex;\n",
              "      gap: 12px;\n",
              "    }\n",
              "\n",
              "    .colab-df-convert {\n",
              "      background-color: #E8F0FE;\n",
              "      border: none;\n",
              "      border-radius: 50%;\n",
              "      cursor: pointer;\n",
              "      display: none;\n",
              "      fill: #1967D2;\n",
              "      height: 32px;\n",
              "      padding: 0 0 0 0;\n",
              "      width: 32px;\n",
              "    }\n",
              "\n",
              "    .colab-df-convert:hover {\n",
              "      background-color: #E2EBFA;\n",
              "      box-shadow: 0px 1px 2px rgba(60, 64, 67, 0.3), 0px 1px 3px 1px rgba(60, 64, 67, 0.15);\n",
              "      fill: #174EA6;\n",
              "    }\n",
              "\n",
              "    .colab-df-buttons div {\n",
              "      margin-bottom: 4px;\n",
              "    }\n",
              "\n",
              "    [theme=dark] .colab-df-convert {\n",
              "      background-color: #3B4455;\n",
              "      fill: #D2E3FC;\n",
              "    }\n",
              "\n",
              "    [theme=dark] .colab-df-convert:hover {\n",
              "      background-color: #434B5C;\n",
              "      box-shadow: 0px 1px 3px 1px rgba(0, 0, 0, 0.15);\n",
              "      filter: drop-shadow(0px 1px 2px rgba(0, 0, 0, 0.3));\n",
              "      fill: #FFFFFF;\n",
              "    }\n",
              "  </style>\n",
              "\n",
              "    <script>\n",
              "      const buttonEl =\n",
              "        document.querySelector('#df-a105b8f6-4f3b-4c90-918d-737861ff78ab button.colab-df-convert');\n",
              "      buttonEl.style.display =\n",
              "        google.colab.kernel.accessAllowed ? 'block' : 'none';\n",
              "\n",
              "      async function convertToInteractive(key) {\n",
              "        const element = document.querySelector('#df-a105b8f6-4f3b-4c90-918d-737861ff78ab');\n",
              "        const dataTable =\n",
              "          await google.colab.kernel.invokeFunction('convertToInteractive',\n",
              "                                                    [key], {});\n",
              "        if (!dataTable) return;\n",
              "\n",
              "        const docLinkHtml = 'Like what you see? Visit the ' +\n",
              "          '<a target=\"_blank\" href=https://colab.research.google.com/notebooks/data_table.ipynb>data table notebook</a>'\n",
              "          + ' to learn more about interactive tables.';\n",
              "        element.innerHTML = '';\n",
              "        dataTable['output_type'] = 'display_data';\n",
              "        await google.colab.output.renderOutput(dataTable, element);\n",
              "        const docLink = document.createElement('div');\n",
              "        docLink.innerHTML = docLinkHtml;\n",
              "        element.appendChild(docLink);\n",
              "      }\n",
              "    </script>\n",
              "  </div>\n",
              "\n",
              "\n",
              "<div id=\"df-a9d8c759-2875-408d-bb0a-a6554ec6cecf\">\n",
              "  <button class=\"colab-df-quickchart\" onclick=\"quickchart('df-a9d8c759-2875-408d-bb0a-a6554ec6cecf')\"\n",
              "            title=\"Suggest charts.\"\n",
              "            style=\"display:none;\">\n",
              "\n",
              "<svg xmlns=\"http://www.w3.org/2000/svg\" height=\"24px\"viewBox=\"0 0 24 24\"\n",
              "     width=\"24px\">\n",
              "    <g>\n",
              "        <path d=\"M19 3H5c-1.1 0-2 .9-2 2v14c0 1.1.9 2 2 2h14c1.1 0 2-.9 2-2V5c0-1.1-.9-2-2-2zM9 17H7v-7h2v7zm4 0h-2V7h2v10zm4 0h-2v-4h2v4z\"/>\n",
              "    </g>\n",
              "</svg>\n",
              "  </button>\n",
              "\n",
              "<style>\n",
              "  .colab-df-quickchart {\n",
              "      --bg-color: #E8F0FE;\n",
              "      --fill-color: #1967D2;\n",
              "      --hover-bg-color: #E2EBFA;\n",
              "      --hover-fill-color: #174EA6;\n",
              "      --disabled-fill-color: #AAA;\n",
              "      --disabled-bg-color: #DDD;\n",
              "  }\n",
              "\n",
              "  [theme=dark] .colab-df-quickchart {\n",
              "      --bg-color: #3B4455;\n",
              "      --fill-color: #D2E3FC;\n",
              "      --hover-bg-color: #434B5C;\n",
              "      --hover-fill-color: #FFFFFF;\n",
              "      --disabled-bg-color: #3B4455;\n",
              "      --disabled-fill-color: #666;\n",
              "  }\n",
              "\n",
              "  .colab-df-quickchart {\n",
              "    background-color: var(--bg-color);\n",
              "    border: none;\n",
              "    border-radius: 50%;\n",
              "    cursor: pointer;\n",
              "    display: none;\n",
              "    fill: var(--fill-color);\n",
              "    height: 32px;\n",
              "    padding: 0;\n",
              "    width: 32px;\n",
              "  }\n",
              "\n",
              "  .colab-df-quickchart:hover {\n",
              "    background-color: var(--hover-bg-color);\n",
              "    box-shadow: 0 1px 2px rgba(60, 64, 67, 0.3), 0 1px 3px 1px rgba(60, 64, 67, 0.15);\n",
              "    fill: var(--button-hover-fill-color);\n",
              "  }\n",
              "\n",
              "  .colab-df-quickchart-complete:disabled,\n",
              "  .colab-df-quickchart-complete:disabled:hover {\n",
              "    background-color: var(--disabled-bg-color);\n",
              "    fill: var(--disabled-fill-color);\n",
              "    box-shadow: none;\n",
              "  }\n",
              "\n",
              "  .colab-df-spinner {\n",
              "    border: 2px solid var(--fill-color);\n",
              "    border-color: transparent;\n",
              "    border-bottom-color: var(--fill-color);\n",
              "    animation:\n",
              "      spin 1s steps(1) infinite;\n",
              "  }\n",
              "\n",
              "  @keyframes spin {\n",
              "    0% {\n",
              "      border-color: transparent;\n",
              "      border-bottom-color: var(--fill-color);\n",
              "      border-left-color: var(--fill-color);\n",
              "    }\n",
              "    20% {\n",
              "      border-color: transparent;\n",
              "      border-left-color: var(--fill-color);\n",
              "      border-top-color: var(--fill-color);\n",
              "    }\n",
              "    30% {\n",
              "      border-color: transparent;\n",
              "      border-left-color: var(--fill-color);\n",
              "      border-top-color: var(--fill-color);\n",
              "      border-right-color: var(--fill-color);\n",
              "    }\n",
              "    40% {\n",
              "      border-color: transparent;\n",
              "      border-right-color: var(--fill-color);\n",
              "      border-top-color: var(--fill-color);\n",
              "    }\n",
              "    60% {\n",
              "      border-color: transparent;\n",
              "      border-right-color: var(--fill-color);\n",
              "    }\n",
              "    80% {\n",
              "      border-color: transparent;\n",
              "      border-right-color: var(--fill-color);\n",
              "      border-bottom-color: var(--fill-color);\n",
              "    }\n",
              "    90% {\n",
              "      border-color: transparent;\n",
              "      border-bottom-color: var(--fill-color);\n",
              "    }\n",
              "  }\n",
              "</style>\n",
              "\n",
              "  <script>\n",
              "    async function quickchart(key) {\n",
              "      const quickchartButtonEl =\n",
              "        document.querySelector('#' + key + ' button');\n",
              "      quickchartButtonEl.disabled = true;  // To prevent multiple clicks.\n",
              "      quickchartButtonEl.classList.add('colab-df-spinner');\n",
              "      try {\n",
              "        const charts = await google.colab.kernel.invokeFunction(\n",
              "            'suggestCharts', [key], {});\n",
              "      } catch (error) {\n",
              "        console.error('Error during call to suggestCharts:', error);\n",
              "      }\n",
              "      quickchartButtonEl.classList.remove('colab-df-spinner');\n",
              "      quickchartButtonEl.classList.add('colab-df-quickchart-complete');\n",
              "    }\n",
              "    (() => {\n",
              "      let quickchartButtonEl =\n",
              "        document.querySelector('#df-a9d8c759-2875-408d-bb0a-a6554ec6cecf button');\n",
              "      quickchartButtonEl.style.display =\n",
              "        google.colab.kernel.accessAllowed ? 'block' : 'none';\n",
              "    })();\n",
              "  </script>\n",
              "</div>\n",
              "    </div>\n",
              "  </div>\n"
            ]
          },
          "metadata": {},
          "execution_count": 214
        }
      ]
    },
    {
      "cell_type": "code",
      "source": [
        "df.dtypes"
      ],
      "metadata": {
        "colab": {
          "base_uri": "https://localhost:8080/"
        },
        "id": "44Y8KRHV7Sq_",
        "outputId": "872d0bd4-a012-4fed-c1c8-24732f1eb18f"
      },
      "execution_count": null,
      "outputs": [
        {
          "output_type": "execute_result",
          "data": {
            "text/plain": [
              "PassengerId      object\n",
              "HomePlanet       object\n",
              "CryoSleep        object\n",
              "Cabin            object\n",
              "Destination      object\n",
              "Age             float64\n",
              "VIP              object\n",
              "RoomService     float64\n",
              "FoodCourt       float64\n",
              "ShoppingMall    float64\n",
              "Spa             float64\n",
              "VRDeck          float64\n",
              "Name             object\n",
              "Transported        bool\n",
              "dtype: object"
            ]
          },
          "metadata": {},
          "execution_count": 215
        }
      ]
    },
    {
      "cell_type": "code",
      "source": [
        "df.shape"
      ],
      "metadata": {
        "colab": {
          "base_uri": "https://localhost:8080/"
        },
        "id": "bmRhmGiCS_CJ",
        "outputId": "0e237be5-24c2-41fd-96ec-7a58eb17481f"
      },
      "execution_count": null,
      "outputs": [
        {
          "output_type": "execute_result",
          "data": {
            "text/plain": [
              "(8693, 14)"
            ]
          },
          "metadata": {},
          "execution_count": 216
        }
      ]
    },
    {
      "cell_type": "code",
      "source": [
        "df.isna().sum()"
      ],
      "metadata": {
        "colab": {
          "base_uri": "https://localhost:8080/"
        },
        "id": "EQJ0O9pyZsv0",
        "outputId": "629c05ab-9f77-48ad-845e-d7dabf716abc"
      },
      "execution_count": null,
      "outputs": [
        {
          "output_type": "execute_result",
          "data": {
            "text/plain": [
              "PassengerId       0\n",
              "HomePlanet      201\n",
              "CryoSleep       217\n",
              "Cabin           199\n",
              "Destination     182\n",
              "Age             179\n",
              "VIP             203\n",
              "RoomService     181\n",
              "FoodCourt       183\n",
              "ShoppingMall    208\n",
              "Spa             183\n",
              "VRDeck          188\n",
              "Name            200\n",
              "Transported       0\n",
              "dtype: int64"
            ]
          },
          "metadata": {},
          "execution_count": 217
        }
      ]
    },
    {
      "cell_type": "code",
      "source": [
        "import matplotlib.pyplot as plt\n",
        "import seaborn as sns\n",
        "\n",
        "# Bar Chart to compare home planet and transported\n",
        "plt.figure(figsize=(8, 6))\n",
        "sns.countplot(data=df, x=\"Transported\", hue=\"HomePlanet\")\n",
        "plt.title(\"Transported vs. HomePlanet\")\n",
        "plt.xlabel(\"Transported\")\n",
        "plt.ylabel(\"Count\")\n",
        "plt.show()"
      ],
      "metadata": {
        "colab": {
          "base_uri": "https://localhost:8080/",
          "height": 564
        },
        "id": "kfM7t8xkTgpT",
        "outputId": "9575e05f-95b7-4f85-f464-85692889fe8d"
      },
      "execution_count": null,
      "outputs": [
        {
          "output_type": "display_data",
          "data": {
            "text/plain": [
              "<Figure size 800x600 with 1 Axes>"
            ],
            "image/png": "[encoded data removed]"
          },
          "metadata": {}
        }
      ]
    },
    {
      "cell_type": "code",
      "source": [
        "import matplotlib.pyplot as plt\n",
        "import pandas as pd\n",
        "# bar graph combaring cabin group and location to trasported\n",
        "\n",
        "df['Deck'] = df['Cabin'].str.split('/').str[0]\n",
        "\n",
        "df['Side'] = df['Cabin'].str.split('/').str[2]\n",
        "\n",
        "cabin_transported = df.groupby(['Deck', 'Side', 'Transported']).size().unstack().fillna(0)\n",
        "\n",
        "plt.figure(figsize=(12, 6))\n",
        "cabin_transported.plot(kind='bar', stacked=True)\n",
        "plt.title(\"Transported by Deck and Side\")\n",
        "plt.xlabel(\"Deck and Side\")\n",
        "plt.ylabel(\"Count\")\n",
        "plt.legend(title=\"Transported\", labels=[\"Not Transported\", \"Transported\"])\n",
        "plt.show()\n"
      ],
      "metadata": {
        "colab": {
          "base_uri": "https://localhost:8080/",
          "height": 515
        },
        "id": "sAFoAe0PTsOW",
        "outputId": "1240f1fe-e1f5-4375-dcef-59597c475bd8"
      },
      "execution_count": null,
      "outputs": [
        {
          "output_type": "display_data",
          "data": {
            "text/plain": [
              "<Figure size 1200x600 with 0 Axes>"
            ]
          },
          "metadata": {}
        },
        {
          "output_type": "display_data",
          "data": {
            "text/plain": [
              "<Figure size 640x480 with 1 Axes>"
            ],
            "image/png": "[encoded data removed]"
          },
          "metadata": {}
        }
      ]
    },
    {
      "cell_type": "code",
      "source": [
        "# Create a new column 'CombinedFeatures' by combining the values of selected columns in the original dataset\n",
        "df['CombinedFeatures'] = df['RoomService'] + df['FoodCourt'] + df['ShoppingMall'] + df['Spa'] + df['VRDeck']"
      ],
      "metadata": {
        "id": "3yMAG1OJzT_I"
      },
      "execution_count": null,
      "outputs": []
    },
    {
      "cell_type": "code",
      "source": [
        "# Heatmap comparing trasported, vip, age and combined features\n",
        "plt.figure(figsize=(10, 8))\n",
        "correlation_matrix = df[['Age', 'VIP', 'CombinedFeatures', 'Transported']].corr()\n",
        "sns.heatmap(correlation_matrix, annot=True, cmap=\"coolwarm\")\n",
        "plt.title(\"Correlation Heatmap\")\n",
        "plt.show()\n"
      ],
      "metadata": {
        "colab": {
          "base_uri": "https://localhost:8080/",
          "height": 755
        },
        "id": "XyNgfoVTTXHH",
        "outputId": "cfad52ff-f26e-4861-b715-42449331da53"
      },
      "execution_count": null,
      "outputs": [
        {
          "output_type": "stream",
          "name": "stderr",
          "text": [
            "<ipython-input-221-1a961adfced9>:3: FutureWarning: The default value of numeric_only in DataFrame.corr is deprecated. In a future version, it will default to False. Select only valid columns or specify the value of numeric_only to silence this warning.\n",
            "  correlation_matrix = df[['Age', 'VIP', 'CombinedFeatures', 'Transported']].corr()\n"
          ]
        },
        {
          "output_type": "display_data",
          "data": {
            "text/plain": [
              "<Figure size 1000x800 with 2 Axes>"
            ],
            "image/png": "[encoded data removed]"
          },
          "metadata": {}
        }
      ]
    },
    {
      "cell_type": "code",
      "source": [
        "#fill NA with median and most frequent\n",
        "from sklearn.impute import SimpleImputer\n",
        "\n",
        "numeric_imputer = SimpleImputer(strategy='median')\n",
        "object_imputer = SimpleImputer(strategy='most_frequent')\n",
        "\n",
        "# Apply imputation to numeric columns\n",
        "df[numeric_columns] = numeric_imputer.fit_transform(df[numeric_columns])\n",
        "\n",
        "# Apply imputation to object columns\n",
        "df[object_columns] = object_imputer.fit_transform(df[object_columns])\n"
      ],
      "metadata": {
        "id": "aqdlEpjswWLA"
      },
      "execution_count": null,
      "outputs": []
    },
    {
      "cell_type": "code",
      "source": [
        "# if combined features is 0 then cryo freeze true\n",
        "df['CryoFreeze'] = df['CombinedFeatures'].apply(lambda x: True if x == 0 else False)"
      ],
      "metadata": {
        "id": "IL0vj4xyWZM9"
      },
      "execution_count": null,
      "outputs": []
    },
    {
      "cell_type": "code",
      "source": [
        "#if cabin A then VIP true\n",
        "df['VIP'] = df['Cabin'].apply(lambda cabin: True if cabin.startswith('A') else False)"
      ],
      "metadata": {
        "id": "xvvHtw5KWZIb"
      },
      "execution_count": null,
      "outputs": []
    },
    {
      "cell_type": "code",
      "source": [
        "import pandas as pd\n",
        "\n",
        "# Extract the group information from 'PassengerId' (the first four characters)\n",
        "df['Group'] = df['PassengerId'].str[:4]\n",
        "\n",
        "# Fill missing values in 'HomePlanet' and 'Destination' based on the mode within the same group\n",
        "df['HomePlanet'] = df.groupby('Group')['HomePlanet'].transform(lambda x: x.fillna(x.mode().iloc[0]))\n",
        "df['Destination'] = df.groupby('Group')['Destination'].transform(lambda x: x.fillna(x.mode().iloc[0]))\n",
        "\n",
        "# Drop the 'Group' column if you no longer need it\n",
        "df.drop('Group', axis=1, inplace=True)"
      ],
      "metadata": {
        "id": "tM82Whr2Wbnf"
      },
      "execution_count": null,
      "outputs": []
    },
    {
      "cell_type": "code",
      "source": [
        "features = ['PassengerId', 'HomePlanet', 'CryoSleep', 'Cabin', 'Destination', 'Age',\n",
        "       'VIP', 'RoomService', 'FoodCourt', 'ShoppingMall', 'Spa', 'VRDeck',\n",
        "       'Name', 'Transported', 'CombinedFeatures']"
      ],
      "metadata": {
        "id": "V5OQwS3zeKVY"
      },
      "execution_count": null,
      "outputs": []
    },
    {
      "cell_type": "code",
      "source": [
        "df.isna().sum()"
      ],
      "metadata": {
        "colab": {
          "base_uri": "https://localhost:8080/"
        },
        "id": "MTek7Vyu3EDX",
        "outputId": "b0f28d05-73ef-4fe5-9508-31fb4925170d"
      },
      "execution_count": null,
      "outputs": [
        {
          "output_type": "execute_result",
          "data": {
            "text/plain": [
              "PassengerId           0\n",
              "HomePlanet            0\n",
              "CryoSleep             0\n",
              "Cabin                 0\n",
              "Destination           0\n",
              "Age                   0\n",
              "VIP                   0\n",
              "RoomService           0\n",
              "FoodCourt             0\n",
              "ShoppingMall          0\n",
              "Spa                   0\n",
              "VRDeck                0\n",
              "Name                  0\n",
              "Transported           0\n",
              "Deck                199\n",
              "Side                199\n",
              "CombinedFeatures    908\n",
              "CryoFreeze            0\n",
              "dtype: int64"
            ]
          },
          "metadata": {},
          "execution_count": 227
        }
      ]
    },
    {
      "cell_type": "code",
      "source": [
        "X = df[features]\n",
        "y = df['Transported']"
      ],
      "metadata": {
        "id": "aEtFztG1eUIT"
      },
      "execution_count": null,
      "outputs": []
    },
    {
      "cell_type": "code",
      "source": [
        "from sklearn.model_selection import train_test_split\n",
        "from sklearn.linear_model import LogisticRegression\n",
        "from sklearn.preprocessing import OneHotEncoder\n",
        "from sklearn.metrics import accuracy_score"
      ],
      "metadata": {
        "id": "GO_RUj64eWpX"
      },
      "execution_count": null,
      "outputs": []
    },
    {
      "cell_type": "code",
      "source": [
        "import pandas as pd\n",
        "from sklearn.impute import SimpleImputer\n",
        "\n",
        "# Fill in missing values in df\n",
        "numeric_imputer = SimpleImputer(strategy='median')\n",
        "object_imputer = SimpleImputer(strategy='most_frequent')\n",
        "\n",
        "numeric_columns = ['Age', 'RoomService', 'FoodCourt', 'ShoppingMall', 'Spa', 'VRDeck']\n",
        "object_columns = ['PassengerId', 'HomePlanet', 'CryoSleep', 'Cabin', 'Destination', 'VIP', 'Name']\n",
        "\n",
        "# Extract the group information from 'PassengerId' (the first four characters)\n",
        "df['Group'] = df['PassengerId'].str[:4]\n",
        "\n",
        "# Fill missing values in 'HomePlanet' and 'Destination' based on the mode within the same group\n",
        "df['HomePlanet'] = df.groupby('Group')['HomePlanet'].transform(lambda x: x.fillna(x.mode().iloc[0]))\n",
        "df['Destination'] = df.groupby('Group')['Destination'].transform(lambda x: x.fillna(x.mode().iloc[0]))\n",
        "\n",
        "# Create 'CombinedFeatures' column in 'df'\n",
        "df['CombinedFeatures'] = df['RoomService'] + df['FoodCourt'] + df['ShoppingMall'] + df['Spa'] + df['VRDeck']\n",
        "\n",
        "\n",
        "# SimpleImputer\n",
        "numeric_imputer = SimpleImputer(strategy='median')\n",
        "object_imputer = SimpleImputer(strategy='most_frequent')\n",
        "\n",
        "# Impute missing values in 'df' for both numeric and object columns\n",
        "df[numeric_columns] = numeric_imputer.fit_transform(df[numeric_columns])\n",
        "df[object_columns] = object_imputer.fit_transform(df[object_columns])\n",
        "\n",
        "# Impute missing values in 'df_test' for both numeric and object columns using the same imputers\n",
        "df_test[numeric_columns] = numeric_imputer.transform(df_test[numeric_columns])\n",
        "df_test[object_columns] = object_imputer.transform(df_test[object_columns])\n",
        "\n",
        "# Calculate 'CombinedFeatures' and impute missing values in 'df_test' for numeric columns\n",
        "df_test['CombinedFeatures'] = df_test['RoomService'] + df_test['FoodCourt'] + df_test['ShoppingMall'] + df_test['Spa'] + df_test['VRDeck']\n",
        "df_test[numeric_columns] = numeric_imputer.transform(df_test[numeric_columns])\n",
        "df_test[object_columns] = object_imputer.transform(df_test[object_columns])\n",
        "\n",
        "# Drop the 'Group' column from 'df'\n",
        "df.drop('Group', axis=1, inplace=True)"
      ],
      "metadata": {
        "id": "gF1fdMGQYIe1"
      },
      "execution_count": null,
      "outputs": []
    },
    {
      "cell_type": "code",
      "source": [
        "X_train, X_test, y_train, y_test = train_test_split(X, y, test_size=0.2, random_state=42)\n",
        "\n",
        "lr = LogisticRegression(class_weight='balanced')\n",
        "\n",
        "encoder = OneHotEncoder(handle_unknown='ignore')\n",
        "X_train_encoded = encoder.fit_transform(X_train[['PassengerId', 'HomePlanet', 'CryoSleep', 'Cabin', 'Destination', 'Age',\n",
        "       'VIP', 'RoomService', 'FoodCourt', 'ShoppingMall', 'Spa', 'VRDeck',\n",
        "       'Name', 'CombinedFeatures']]).toarray()\n",
        "X_test_encoded = encoder.transform(X_test[['PassengerId', 'HomePlanet', 'CryoSleep', 'Cabin', 'Destination', 'Age',\n",
        "       'VIP', 'RoomService', 'FoodCourt', 'ShoppingMall', 'Spa', 'VRDeck',\n",
        "       'Name', 'CombinedFeatures']]).toarray()\n",
        "\n",
        "# Train the model on the training data\n",
        "lr.fit(X_train_encoded, y_train)\n",
        "\n",
        "# Make predictions on the test data\n",
        "y_pred = lr.predict(X_test_encoded)\n"
      ],
      "metadata": {
        "id": "hs28jiVdeY_a",
        "colab": {
          "base_uri": "https://localhost:8080/"
        },
        "outputId": "f5ec8f5f-25b1-4b90-b15c-73ab12b1cf8e"
      },
      "execution_count": null,
      "outputs": [
        {
          "output_type": "stream",
          "name": "stderr",
          "text": [
            "/usr/local/lib/python3.10/dist-packages/sklearn/linear_model/_logistic.py:458: ConvergenceWarning: lbfgs failed to converge (status=1):\n",
            "STOP: TOTAL NO. of ITERATIONS REACHED LIMIT.\n",
            "\n",
            "Increase the number of iterations (max_iter) or scale the data as shown in:\n",
            "    https://scikit-learn.org/stable/modules/preprocessing.html\n",
            "Please also refer to the documentation for alternative solver options:\n",
            "    https://scikit-learn.org/stable/modules/linear_model.html#logistic-regression\n",
            "  n_iter_i = _check_optimize_result(\n"
          ]
        }
      ]
    },
    {
      "cell_type": "code",
      "source": [
        "'''\n",
        "Tials and results\n",
        "-----------------\n",
        "\n",
        "X_train_encoded = encoder.fit_transform(X_train[['CryoSleep', 'Cabin', 'Age', 'CombinedFeatures','VIP']]).toarray()\n",
        "X_test_encoded = encoder.transform(X_test[['CryoSleep', 'Cabin', 'Age', 'CombinedFeatures','VIP']]).toarray()\n",
        "Collab - 0.7441058079355952\n",
        "Kaggle - 0.72597\n",
        "\n",
        "X_train_encoded = encoder.fit_transform(X_train[['CryoSleep', 'Cabin', 'Age', 'VIP']]).toarray()\n",
        "X_test_encoded = encoder.transform(X_test[['CryoSleep', 'Cabin', 'Age', 'VIP']]).toarray()\n",
        "Collab - 0.7320299022426682\n",
        "Kaggle - 0.73673\n",
        "\n",
        "X_train_encoded = encoder.fit_transform(X_train[['Cabin', 'Age','CombinedFeatures', 'Destination','HomePlanet']]).toarray()\n",
        "X_test_encoded = encoder.transform(X_test[['Cabin', 'Age', 'CombinedFeatures', 'Destination','HomePlanet']]).toarray()\n",
        "Collab - 0.7096032202415181\n",
        "Kaggle - 0.73626\n",
        "\n",
        "X_train_encoded = encoder.fit_transform(X_train[['CryoSleep', 'Age','CombinedFeatures', 'Destination','HomePlanet']]).toarray()\n",
        "X_test_encoded = encoder.transform(X_test[['Cabin', 'Age', 'CombinedFeatures', 'Destination','HomePlanet']]).toarray()\n",
        "Collab - 0.7239792984473835\n",
        "Kaggle - 0.73626\n",
        "\n",
        "X_train_encoded = encoder.fit_transform(X_train[['PassengerId', 'HomePlanet', 'CryoSleep', 'Cabin', 'Destination', 'Age',\n",
        "       'VIP', 'RoomService', 'FoodCourt', 'ShoppingMall', 'Spa', 'VRDeck',\n",
        "       'Name', 'CombinedFeatures']]).toarray()\n",
        "X_test_encoded = encoder.transform(X_test[['PassengerId', 'HomePlanet', 'CryoSleep', 'Cabin', 'Destination', 'Age',\n",
        "       'VIP', 'RoomService', 'FoodCourt', 'ShoppingMall', 'Spa', 'VRDeck',\n",
        "       'Name', 'CombinedFeatures']]).toarray()\n",
        "Collab - 0.7613571017826337\n",
        "Kaggle - 0.75146\n",
        "\n",
        "'''"
      ],
      "metadata": {
        "colab": {
          "base_uri": "https://localhost:8080/",
          "height": 143
        },
        "id": "PPE1w1JpYVa0",
        "outputId": "76c3b137-61a6-4cba-b4bd-265253a165d6"
      },
      "execution_count": null,
      "outputs": [
        {
          "output_type": "execute_result",
          "data": {
            "text/plain": [
              "\"\\nTials and results\\n-----------------\\n\\nX_train_encoded = encoder.fit_transform(X_train[['CryoSleep', 'Cabin', 'Age', 'CombinedFeatures','VIP']]).toarray()\\nX_test_encoded = encoder.transform(X_test[['CryoSleep', 'Cabin', 'Age', 'CombinedFeatures','VIP']]).toarray()\\nCollab - 0.7441058079355952\\nKaggle - 0.72597\\n\\nX_train_encoded = encoder.fit_transform(X_train[['CryoSleep', 'Cabin', 'Age', 'VIP']]).toarray()\\nX_test_encoded = encoder.transform(X_test[['CryoSleep', 'Cabin', 'Age', 'VIP']]).toarray()\\nCollab - 0.7320299022426682\\nKaggle - 0.73673\\n\\nX_train_encoded = encoder.fit_transform(X_train[['Cabin', 'Age','CombinedFeatures', 'Destination','HomePlanet']]).toarray()\\nX_test_encoded = encoder.transform(X_test[['Cabin', 'Age', 'CombinedFeatures', 'Destination','HomePlanet']]).toarray()\\nCollab - 0.7096032202415181\\nKaggle - 0.73626\\n\\nX_train_encoded = encoder.fit_transform(X_train[['CryoSleep', 'Age','CombinedFeatures', 'Destination','HomePlanet']]).toarray()\\nX_test_encoded = encoder.transform(X_test[['Cabin', 'Age', 'CombinedFeatures', 'Destination','HomePlanet']]).toarray()\\nCollab - 0.7239792984473835\\nKaggle - 0.73626\\n\\nX_train_encoded = encoder.fit_transform(X_train[['PassengerId', 'HomePlanet', 'CryoSleep', 'Cabin', 'Destination', 'Age',\\n       'VIP', 'RoomService', 'FoodCourt', 'ShoppingMall', 'Spa', 'VRDeck',\\n       'Name', 'CombinedFeatures']]).toarray()\\nX_test_encoded = encoder.transform(X_test[['PassengerId', 'HomePlanet', 'CryoSleep', 'Cabin', 'Destination', 'Age',\\n       'VIP', 'RoomService', 'FoodCourt', 'ShoppingMall', 'Spa', 'VRDeck',\\n       'Name', 'CombinedFeatures']]).toarray()\\nCollab - 0.7613571017826337\\nKaggle - 0.75146\\n\\n\""
            ],
            "application/vnd.google.colaboratory.intrinsic+json": {
              "type": "string"
            }
          },
          "metadata": {},
          "execution_count": 232
        }
      ]
    },
    {
      "cell_type": "code",
      "source": [
        "df.isna().sum()"
      ],
      "metadata": {
        "id": "6quvP0mFacfb",
        "colab": {
          "base_uri": "https://localhost:8080/"
        },
        "outputId": "a3d5957c-13c9-44ef-d0ac-2b5ae67a3b96"
      },
      "execution_count": null,
      "outputs": [
        {
          "output_type": "execute_result",
          "data": {
            "text/plain": [
              "PassengerId           0\n",
              "HomePlanet            0\n",
              "CryoSleep             0\n",
              "Cabin                 0\n",
              "Destination           0\n",
              "Age                   0\n",
              "VIP                   0\n",
              "RoomService           0\n",
              "FoodCourt             0\n",
              "ShoppingMall          0\n",
              "Spa                   0\n",
              "VRDeck                0\n",
              "Name                  0\n",
              "Transported           0\n",
              "Deck                199\n",
              "Side                199\n",
              "CombinedFeatures      0\n",
              "CryoFreeze            0\n",
              "dtype: int64"
            ]
          },
          "metadata": {},
          "execution_count": 233
        }
      ]
    },
    {
      "cell_type": "code",
      "source": [
        "logreg = LogisticRegression(solver = 'newton-cg', random_state=42)"
      ],
      "metadata": {
        "id": "ZC6-jpTveaTF"
      },
      "execution_count": null,
      "outputs": []
    },
    {
      "cell_type": "code",
      "source": [
        "accuracy = accuracy_score(y_test, y_pred)\n",
        "print(\"Accuracy:\", accuracy)"
      ],
      "metadata": {
        "id": "Ic1FlQnYegA_",
        "colab": {
          "base_uri": "https://localhost:8080/"
        },
        "outputId": "4d570d72-3f90-402d-9976-46212cc52d43"
      },
      "execution_count": null,
      "outputs": [
        {
          "output_type": "stream",
          "name": "stdout",
          "text": [
            "Accuracy: 0.7613571017826337\n"
          ]
        }
      ]
    },
    {
      "cell_type": "code",
      "source": [
        "# Create a DataFrame for the test predictions\n",
        "X_test_encoded = encoder.transform(df_test[['PassengerId', 'HomePlanet', 'CryoSleep', 'Cabin', 'Destination', 'Age',\n",
        "       'VIP', 'RoomService', 'FoodCourt', 'ShoppingMall', 'Spa', 'VRDeck',\n",
        "       'Name', 'CombinedFeatures']]).toarray()\n",
        "y_pred_test = lr.predict(X_test_encoded)\n",
        "kaggle = pd.DataFrame({\n",
        "    'PassengerId': df_test['PassengerId'],\n",
        "    'Transported': y_pred_test.astype(bool)\n",
        "})"
      ],
      "metadata": {
        "id": "HK8LzyAAnXy1"
      },
      "execution_count": null,
      "outputs": []
    },
    {
      "cell_type": "code",
      "source": [
        "kaggle.to_csv('/content/drive/MyDrive/12th Grade/Machine Learning/Data/spaceshipTitanic_predictions.csv', index=False)"
      ],
      "metadata": {
        "id": "bRvlNLoPw08y"
      },
      "execution_count": null,
      "outputs": []
    }
  ]
}